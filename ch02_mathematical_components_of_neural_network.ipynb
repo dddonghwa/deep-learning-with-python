{
  "nbformat": 4,
  "nbformat_minor": 0,
  "metadata": {
    "colab": {
      "name": "ch02_mathematical_components_of_neural_network.ipynb",
      "provenance": [],
      "collapsed_sections": [],
      "authorship_tag": "ABX9TyOefA4dA5qhgx5qIOihxO3L",
      "include_colab_link": true
    },
    "kernelspec": {
      "name": "python3",
      "display_name": "Python 3"
    },
    "language_info": {
      "name": "python"
    }
  },
  "cells": [
    {
      "cell_type": "markdown",
      "metadata": {
        "id": "view-in-github",
        "colab_type": "text"
      },
      "source": [
        "<a href=\"https://colab.research.google.com/github/dddonghwa/deep-learning-with-python/blob/main/ch02_mathematical_components_of_neural_network.ipynb\" target=\"_parent\"><img src=\"https://colab.research.google.com/assets/colab-badge.svg\" alt=\"Open In Colab\"/></a>"
      ]
    },
    {
      "cell_type": "markdown",
      "metadata": {
        "id": "ieaiCJLR-kUK"
      },
      "source": [
        "# chapter 02 | 시작하기 전에 : 신경망의 수학적 구성 요소\n",
        "\n",
        "## 2.1 신경망과의 첫 만남\n",
        "\n",
        "#### MNIST 데이터세트\n",
        "\n",
        "<img src='https://upload.wikimedia.org/wikipedia/commons/thumb/2/27/MnistExamples.png/440px-MnistExamples.png'>   \n",
        "*이미지 출처 : 위키피디아*"
      ]
    },
    {
      "cell_type": "code",
      "metadata": {
        "colab": {
          "base_uri": "https://localhost:8080/"
        },
        "id": "wbVffGYE4oXn",
        "outputId": "b7eea39e-91d6-4a39-8b04-193c78cda7c7"
      },
      "source": [
        "! pip install keras"
      ],
      "execution_count": 1,
      "outputs": [
        {
          "output_type": "stream",
          "name": "stdout",
          "text": [
            "Requirement already satisfied: keras in /usr/local/lib/python3.7/dist-packages (2.6.0)\n"
          ]
        }
      ]
    },
    {
      "cell_type": "code",
      "metadata": {
        "colab": {
          "base_uri": "https://localhost:8080/"
        },
        "id": "LWDffbgr4lsw",
        "outputId": "b04ba5d4-9bd5-4cc3-af80-93620183377b"
      },
      "source": [
        "# 코드 2-1 케라스에서 MNIST 데이터셋 적재하기\n",
        "from keras.datasets import mnist\n",
        "\n",
        "(train_images, train_labels), (test_images, test_labels) = mnist.load_data()\n",
        "print(train_images.shape, train_labels.shape)\n",
        "print(test_images.shape, test_labels.shape)"
      ],
      "execution_count": 2,
      "outputs": [
        {
          "output_type": "stream",
          "name": "stdout",
          "text": [
            "Downloading data from https://storage.googleapis.com/tensorflow/tf-keras-datasets/mnist.npz\n",
            "11493376/11490434 [==============================] - 0s 0us/step\n",
            "11501568/11490434 [==============================] - 0s 0us/step\n",
            "(60000, 28, 28) (60000,)\n",
            "(10000, 28, 28) (10000,)\n"
          ]
        }
      ]
    },
    {
      "cell_type": "markdown",
      "metadata": {
        "id": "Pnl2wDssCT49"
      },
      "source": [
        "#### 신경망 구조\n",
        "- 2개의 신경망 층(layer)\n",
        "- 28*28인 데이터 입력 → 512개의 뉴런 (은닉층) → 10개의 뉴런 (소프트맥스/출력 층)"
      ]
    },
    {
      "cell_type": "code",
      "metadata": {
        "id": "TPeFkkU95Mu6"
      },
      "source": [
        "# 코드 2-2 신경망 구조\n",
        "\n",
        "from keras import models\n",
        "from keras import layers\n",
        "\n",
        "network = models.Sequential()\n",
        "network.add(layers.Dense(512, activation='relu', input_shape=(28*28,)))\n",
        "network.add(layers.Dense(10, activation='softmax'))"
      ],
      "execution_count": 3,
      "outputs": []
    },
    {
      "cell_type": "markdown",
      "metadata": {
        "id": "GFHA00zGC3d0"
      },
      "source": [
        "#### 컴파일 단계\n",
        "1) 손실 함수 : 출력값과 타겟값의 차이를 계산하는 함수  \n",
        "2) 옵티마이저 : 손실함수를 감소시키는 방향으로 신경망을 업데이트하는 메커니즘   \n",
        "3) 훈련과 테스트 과정을 모니터링할 지표"
      ]
    },
    {
      "cell_type": "code",
      "metadata": {
        "id": "ukz5RHBSCTKD"
      },
      "source": [
        "# 코드 2-3 컴파일 단계\n",
        "\n",
        "network.compile(optimizer='rmsprop',\n",
        "                loss='categorical_crossentropy',\n",
        "                metrics=['accuracy'])"
      ],
      "execution_count": 4,
      "outputs": []
    },
    {
      "cell_type": "markdown",
      "metadata": {
        "id": "P5bZBAfRFzqY"
      },
      "source": [
        "데이터를 신경망에 맞는 크기(n_images, n_pixels)로 바꾸고 모든 값을 (0,1) 사이 값으로 스케일링"
      ]
    },
    {
      "cell_type": "code",
      "metadata": {
        "id": "ms7kAMuZ5iPp"
      },
      "source": [
        "# 코드 2-4 이미지 데이터 준비하기\n",
        "\n",
        "train_images = train_images.reshape((60000, 28 * 28))\n",
        "train_images = train_images.astype('float32')/255\n",
        "\n",
        "test_images = test_images.reshape((10000, 28*28))\n",
        "test_images = test_images.astype('float32')/255"
      ],
      "execution_count": 5,
      "outputs": []
    },
    {
      "cell_type": "code",
      "metadata": {
        "colab": {
          "base_uri": "https://localhost:8080/"
        },
        "id": "_jkEqkxSGlr5",
        "outputId": "63688fb6-226e-4abb-b71f-5ad6eac772df"
      },
      "source": [
        "! pip install np_utils"
      ],
      "execution_count": 6,
      "outputs": [
        {
          "output_type": "stream",
          "name": "stdout",
          "text": [
            "Collecting np_utils\n",
            "  Downloading np_utils-0.5.12.1.tar.gz (61 kB)\n",
            "\u001b[?25l\r\u001b[K     |█████▍                          | 10 kB 29.9 MB/s eta 0:00:01\r\u001b[K     |██████████▊                     | 20 kB 28.1 MB/s eta 0:00:01\r\u001b[K     |████████████████                | 30 kB 19.8 MB/s eta 0:00:01\r\u001b[K     |█████████████████████▍          | 40 kB 16.4 MB/s eta 0:00:01\r\u001b[K     |██████████████████████████▊     | 51 kB 9.2 MB/s eta 0:00:01\r\u001b[K     |████████████████████████████████| 61 kB 5.0 MB/s \n",
            "\u001b[?25hRequirement already satisfied: numpy>=1.0 in /usr/local/lib/python3.7/dist-packages (from np_utils) (1.19.5)\n",
            "Requirement already satisfied: future>=0.16 in /usr/local/lib/python3.7/dist-packages (from np_utils) (0.16.0)\n",
            "Building wheels for collected packages: np-utils\n",
            "  Building wheel for np-utils (setup.py) ... \u001b[?25l\u001b[?25hdone\n",
            "  Created wheel for np-utils: filename=np_utils-0.5.12.1-py3-none-any.whl size=57131 sha256=80198485096611db0d2563617cc995415205e536a077cf72d60ce1aaff94e706\n",
            "  Stored in directory: /root/.cache/pip/wheels/8c/4e/ef/095c24693723c329f4cdc1079861cdbb2487d4b41b2496a4e7\n",
            "Successfully built np-utils\n",
            "Installing collected packages: np-utils\n",
            "Successfully installed np-utils-0.5.12.1\n"
          ]
        }
      ]
    },
    {
      "cell_type": "markdown",
      "metadata": {
        "id": "dmYPg6IkGuib"
      },
      "source": [
        "범주형 데이터인 레이블을 원핫인코딩으로"
      ]
    },
    {
      "cell_type": "code",
      "metadata": {
        "colab": {
          "base_uri": "https://localhost:8080/"
        },
        "id": "VyWBAdbTGG3I",
        "outputId": "3639618b-5341-49c3-ee1b-b6d6d96ca322"
      },
      "source": [
        "# 코드 2-5 레이블 준비하기\n",
        "from keras.utils.np_utils import to_categorical\n",
        "# from keras.utils import to_categorical\n",
        "\n",
        "train_labels = to_categorical(train_labels)\n",
        "test_labels = to_categorical(test_labels)\n",
        "\n",
        "print(train_labels[:10])"
      ],
      "execution_count": 7,
      "outputs": [
        {
          "output_type": "stream",
          "name": "stdout",
          "text": [
            "[[0. 0. 0. 0. 0. 1. 0. 0. 0. 0.]\n",
            " [1. 0. 0. 0. 0. 0. 0. 0. 0. 0.]\n",
            " [0. 0. 0. 0. 1. 0. 0. 0. 0. 0.]\n",
            " [0. 1. 0. 0. 0. 0. 0. 0. 0. 0.]\n",
            " [0. 0. 0. 0. 0. 0. 0. 0. 0. 1.]\n",
            " [0. 0. 1. 0. 0. 0. 0. 0. 0. 0.]\n",
            " [0. 1. 0. 0. 0. 0. 0. 0. 0. 0.]\n",
            " [0. 0. 0. 1. 0. 0. 0. 0. 0. 0.]\n",
            " [0. 1. 0. 0. 0. 0. 0. 0. 0. 0.]\n",
            " [0. 0. 0. 0. 1. 0. 0. 0. 0. 0.]]\n"
          ]
        }
      ]
    },
    {
      "cell_type": "markdown",
      "metadata": {
        "id": "2G92CMfjGUCe"
      },
      "source": [
        "모델 학습"
      ]
    },
    {
      "cell_type": "code",
      "metadata": {
        "colab": {
          "base_uri": "https://localhost:8080/"
        },
        "id": "qLfcr8dAG-NO",
        "outputId": "7b633c3b-e7c3-4ac2-d3a5-94e401607f08"
      },
      "source": [
        "network.fit(train_images, train_labels, epochs=5, batch_size=128)"
      ],
      "execution_count": 8,
      "outputs": [
        {
          "output_type": "stream",
          "name": "stdout",
          "text": [
            "Epoch 1/5\n",
            "469/469 [==============================] - 4s 7ms/step - loss: 0.2555 - accuracy: 0.9257\n",
            "Epoch 2/5\n",
            "469/469 [==============================] - 3s 6ms/step - loss: 0.1026 - accuracy: 0.9696\n",
            "Epoch 3/5\n",
            "469/469 [==============================] - 3s 6ms/step - loss: 0.0677 - accuracy: 0.9802\n",
            "Epoch 4/5\n",
            "469/469 [==============================] - 3s 6ms/step - loss: 0.0492 - accuracy: 0.9854\n",
            "Epoch 5/5\n",
            "469/469 [==============================] - 3s 6ms/step - loss: 0.0378 - accuracy: 0.9883\n"
          ]
        },
        {
          "output_type": "execute_result",
          "data": {
            "text/plain": [
              "<keras.callbacks.History at 0x7f1c060d7dd0>"
            ]
          },
          "metadata": {},
          "execution_count": 8
        }
      ]
    },
    {
      "cell_type": "code",
      "metadata": {
        "colab": {
          "base_uri": "https://localhost:8080/"
        },
        "id": "hhX7KGq8HGSm",
        "outputId": "50c2f34e-0943-440b-cfbd-a6c9c05a6895"
      },
      "source": [
        "test_loss, test_acc = network.evaluate(test_images, test_labels)\n",
        "print(\"test_acc :\", test_acc)"
      ],
      "execution_count": 9,
      "outputs": [
        {
          "output_type": "stream",
          "name": "stdout",
          "text": [
            "313/313 [==============================] - 1s 2ms/step - loss: 0.0644 - accuracy: 0.9807\n",
            "test_acc : 0.9807000160217285\n"
          ]
        }
      ]
    },
    {
      "cell_type": "markdown",
      "metadata": {
        "id": "AAMo3EJSHQF_"
      },
      "source": [
        "#### 결과\n",
        "- 훈련 세트 정확도 98.94%, 테스트 세트 정확도 : 97.97% → 과적합"
      ]
    },
    {
      "cell_type": "markdown",
      "metadata": {
        "id": "rjPeSmxAHh4D"
      },
      "source": [
        "## 2.2 신경망을 위한 데이터 표현\n",
        "\n",
        "#### ndim\n",
        "- 데이터의 차원수 \n",
        "- 텐서의 축 개수, 랭크(rank)라고도 부름\n"
      ]
    },
    {
      "cell_type": "code",
      "metadata": {
        "colab": {
          "base_uri": "https://localhost:8080/"
        },
        "id": "viV8lFg3IAcR",
        "outputId": "7dcb7bdf-6671-41e8-cf60-0c90213cfd88"
      },
      "source": [
        "from keras.datasets import mnist\n",
        "\n",
        "(train_images, train_labels), (test_images, test_labels) = mnist.load_data()\n",
        "\n",
        "print(train_images.ndim)\n",
        "print(train_images.shape)\n",
        "print(train_images.dtype)"
      ],
      "execution_count": 10,
      "outputs": [
        {
          "output_type": "stream",
          "name": "stdout",
          "text": [
            "3\n",
            "(60000, 28, 28)\n",
            "uint8\n"
          ]
        }
      ]
    },
    {
      "cell_type": "code",
      "metadata": {
        "colab": {
          "base_uri": "https://localhost:8080/",
          "height": 265
        },
        "id": "K-AxJOmSIXOJ",
        "outputId": "c8eaa2c7-e23b-448c-953a-139da30fb459"
      },
      "source": [
        "# 코드 2-6 다섯번째 이미지 출력하기\n",
        "\n",
        "digit = train_images[4]\n",
        "\n",
        "import matplotlib.pyplot as plt\n",
        "\n",
        "plt.imshow(digit, cmap=plt.cm.binary)\n",
        "plt.show()"
      ],
      "execution_count": 11,
      "outputs": [
        {
          "output_type": "display_data",
          "data": {
            "image/png": "[encoded data removed]",
            "text/plain": [
              "<Figure size 432x288 with 1 Axes>"
            ]
          },
          "metadata": {
            "needs_background": "light"
          }
        }
      ]
    },
    {
      "cell_type": "markdown",
      "metadata": {
        "id": "j7ACVRxYIm9P"
      },
      "source": [
        "### 2.2.7 배치 데이터\n",
        "- 데이터 텐서의 첫번째 축(index=0)을 __샘플 축(sample axis)__\n",
        "- 딥러닝 모델은 전체 데이터 셋을 한번에 처리하지 않고, 작은 배치(batch)로 나누어서 처리\n",
        "\n",
        "~~~\n",
        "batch = train_images[:128]\n",
        "~~~\n",
        "이러한 배치 데이터를 다룰 때는 첫번째 축을 __배치 축(batch axis)__ 또는 __배치 차원(batch dimension)__이라고 한다."
      ]
    },
    {
      "cell_type": "markdown",
      "metadata": {
        "id": "k3XBk58OI4eG"
      },
      "source": [
        "### 2.2.8 텐서의 실제 사례\n",
        "\n",
        "| 데이터 종류 | 크기 | 차원 |\n",
        "|:--:|:--:|:--:|\n",
        "| 벡터 데이터 | (samples, features) | 2D |\n",
        "| 시계열/시퀀스 데이터 | (samples, timesteps, features) | 3D |  \n",
        "| 이미지 | (samples, height, width, channels) <br> (samples, channels, height, width) | 4D |\n",
        "| 동영상 | (samples, frames, height, width, channels) <br> (samples, frames, channels, height, width) | 5D | "
      ]
    },
    {
      "cell_type": "markdown",
      "metadata": {
        "id": "Gv4VGG7i_5Op"
      },
      "source": [
        "### 2.2.9 벡터 데이터\n",
        "- 대부분의 경우에 해당\n",
        "- 하나의 데이터 포인트가 벡터로 인코딩될 수 있으므로 배치 데이터는 2D 텐서로 인코딩될 것\n",
        "- 여기서 첫 번째 축은 샘플 축이고, 두 번째 축은 특성 축"
      ]
    },
    {
      "cell_type": "markdown",
      "metadata": {
        "id": "E-eheXv0DhOp"
      },
      "source": [
        "### 2.2.10 시계열 데이터 또는 시퀀스 데이터\n",
        "- 데이터에서 시간이 중요할 때 시간 축을 포함한 3D 텐서로 저장\n",
        "- 관례적으로 시간 축을 항상 두 번째 축(index=1)으로 사용  \n",
        "예) 주식 가격 데이터셋, 트윗 데이터셋 "
      ]
    },
    {
      "cell_type": "markdown",
      "metadata": {
        "id": "W7qpyZP9EEqL"
      },
      "source": [
        "### 2.2.11 이미지 데이터\n",
        "- 높이, 너비, 컬러 채널의 3차원에 샘플의 개수가 있어서 4차원 텐서로 포매팅, 이미지가 흑백이라면 컬러 채널을 제외하여 3차원 텐서로 표현\n",
        "- 이미지 텐서의 크기 지정  \n",
        "1) 채널 마지막 (channel-last) : (samples, height, width, channels) 텐서플로우  \n",
        "2) 채널 우선 (channel-first) : (samples, color_depth, height, width) 씨아노  "
      ]
    },
    {
      "cell_type": "markdown",
      "metadata": {
        "id": "ihIVWmd4EWFu"
      },
      "source": [
        "### 2.2.12 비디오 데이터\n",
        "- 5D 텐서가 필요한 데이터\n"
      ]
    }
  ]
}