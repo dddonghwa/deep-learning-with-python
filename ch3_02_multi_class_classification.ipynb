{
  "nbformat": 4,
  "nbformat_minor": 0,
  "metadata": {
    "colab": {
      "name": "ch3_02_multi-class_classification.ipynb",
      "provenance": [],
      "authorship_tag": "ABX9TyNXSmcNCbaSuYs/PmFdpl6T",
      "include_colab_link": true
    },
    "kernelspec": {
      "name": "python3",
      "display_name": "Python 3"
    },
    "language_info": {
      "name": "python"
    }
  },
  "cells": [
    {
      "cell_type": "markdown",
      "metadata": {
        "id": "view-in-github",
        "colab_type": "text"
      },
      "source": [
        "<a href=\"https://colab.research.google.com/github/dddonghwa/deep-learning-with-python/blob/main/ch3_02_multi_class_classification.ipynb\" target=\"_parent\"><img src=\"https://colab.research.google.com/assets/colab-badge.svg\" alt=\"Open In Colab\"/></a>"
      ]
    },
    {
      "cell_type": "code",
      "source": [
        "import numpy as np\n",
        "import pandas as pd\n",
        "import matplotlib.pyplot as plt"
      ],
      "metadata": {
        "id": "6eCl5RAC4oLw"
      },
      "execution_count": 1,
      "outputs": []
    },
    {
      "cell_type": "markdown",
      "source": [
        "###cf. Keras 네트워크 시각화하기 [링크](https://dacon.io/codeshare/4199)\n",
        "\n",
        "```\n",
        "model.summary()\n",
        "plot_model(model, show_shapes=True, to_file='name.png')\n",
        "```"
      ],
      "metadata": {
        "id": "-MeTD2VQ2--M"
      }
    },
    {
      "cell_type": "markdown",
      "source": [
        "## 3.5 뉴스 기사 분류 : 다중 분류 문제\n",
        "### 3.5.1 로이터 데이터셋\n",
        "짧은 뉴스 기사와 토픽의 집합  \n",
        "46개의 토픽, 각 토픽당 최소 10개의 샘플 데이터"
      ],
      "metadata": {
        "id": "yZkxwnBdB_uf"
      }
    },
    {
      "cell_type": "code",
      "source": [
        "# 코드 3-12\n",
        "from keras.datasets import reuters\n",
        "\n",
        "(train_data, train_labels), (test_data, test_labels) = reuters.load_data(num_words=10000)\n",
        "print(train_data.shape)\n",
        "print(test_data.shape)"
      ],
      "metadata": {
        "colab": {
          "base_uri": "https://localhost:8080/"
        },
        "id": "6-Q7mcOhF3bN",
        "outputId": "5772af15-99c5-4bb7-db02-c31446bd4e18"
      },
      "execution_count": 18,
      "outputs": [
        {
          "output_type": "stream",
          "name": "stdout",
          "text": [
            "(8982,)\n",
            "(2246,)\n"
          ]
        }
      ]
    },
    {
      "cell_type": "code",
      "source": [
        "word_idx = reuters.get_word_index()\n",
        "reverse_word_idx = dict(\n",
        "    [(value, key) for (key,value) in word_idx.items()]\n",
        ")\n",
        "# print(reverse_word_idx)\n",
        "decoded_review = \" \".join(\n",
        "    [reverse_word_idx.get(i-3, \"?\") for i in train_data[0]]\n",
        ")\n",
        "print(decoded_review)"
      ],
      "metadata": {
        "colab": {
          "base_uri": "https://localhost:8080/"
        },
        "id": "mOj_L_2iGGh4",
        "outputId": "0990b8c2-09be-43ee-f592-90d3c8a57b0d"
      },
      "execution_count": 3,
      "outputs": [
        {
          "output_type": "stream",
          "name": "stdout",
          "text": [
            "Downloading data from https://storage.googleapis.com/tensorflow/tf-keras-datasets/reuters_word_index.json\n",
            "557056/550378 [==============================] - 0s 0us/step\n",
            "565248/550378 [==============================] - 0s 0us/step\n",
            "? ? ? said as a result of its december acquisition of space co it expects earnings per share in 1987 of 1 15 to 1 30 dlrs per share up from 70 cts in 1986 the company said pretax net should rise to nine to 10 mln dlrs from six mln dlrs in 1986 and rental operation revenues to 19 to 22 mln dlrs from 12 5 mln dlrs it said cash flow per share this year should be 2 50 to three dlrs reuter 3\n"
          ]
        }
      ]
    },
    {
      "cell_type": "code",
      "source": [
        "# 3-14 데이터 인코딩하기\n",
        "\n",
        "def vectorize_sequence(sequences, dimension=10000):\n",
        "  mat = np.zeros((len(sequences), dimension))\n",
        "  for i, seq in enumerate(sequences):\n",
        "    mat[i, seq] = 1.\n",
        "  return mat\n",
        "\n",
        "x_train = vectorize_sequence(train_data)\n",
        "x_test = vectorize_sequence(test_data)"
      ],
      "metadata": {
        "id": "c07Iy9EdGJ8w"
      },
      "execution_count": 19,
      "outputs": []
    },
    {
      "cell_type": "code",
      "source": [
        "print(x_train.shape, x_test.shape)"
      ],
      "metadata": {
        "colab": {
          "base_uri": "https://localhost:8080/"
        },
        "id": "q4QZRRxaJP4Z",
        "outputId": "21754d64-d2e7-4f71-86e2-7bb50b728b5f"
      },
      "execution_count": 5,
      "outputs": [
        {
          "output_type": "stream",
          "name": "stdout",
          "text": [
            "(8982, 10000) (2246, 10000)\n"
          ]
        }
      ]
    },
    {
      "cell_type": "code",
      "source": [
        "from tensorflow.keras.utils import to_categorical\n",
        "from keras.utils.np_utils import to_categorical\n",
        "\n",
        "y_train = to_categorical(train_labels)\n",
        "y_test = to_categorical(test_labels)"
      ],
      "metadata": {
        "id": "yM1zjyMfIm_D"
      },
      "execution_count": 24,
      "outputs": []
    },
    {
      "cell_type": "code",
      "source": [
        "# 코드 3-15 모델 정의하기\n",
        "from keras import models, layers\n",
        "from tensorflow.keras.utils import plot_model\n",
        "\n",
        "model = models.Sequential()\n",
        "model.add(layers.Dense(64, activation='relu', input_shape=(10000,)))\n",
        "model.add(layers.Dense(64, activation='relu'))\n",
        "model.add(layers.Dense(46, activation='softmax'))\n",
        "\n",
        "plot_model(model, show_shapes=True)"
      ],
      "metadata": {
        "colab": {
          "base_uri": "https://localhost:8080/",
          "height": 422
        },
        "id": "FoP49Nw7I5d4",
        "outputId": "2cb3664c-f19b-45ac-c432-6715ec298e80"
      },
      "execution_count": 8,
      "outputs": [
        {
          "output_type": "execute_result",
          "data": {
            "image/png": "[encoded data removed]",
            "text/plain": [
              "<IPython.core.display.Image object>"
            ]
          },
          "metadata": {},
          "execution_count": 8
        }
      ]
    },
    {
      "cell_type": "code",
      "source": [
        "# 코드 3-16 모델 컴파일하기\n",
        "model.compile(optimizer='rmsprop',\n",
        "              loss='categorical_crossentropy',\n",
        "              metrics=['accuracy'])"
      ],
      "metadata": {
        "id": "dNr6TZRmJkvW"
      },
      "execution_count": 9,
      "outputs": []
    },
    {
      "cell_type": "code",
      "source": [
        "# 코드 3-17 검증 세트 준비하기\n",
        "x_val = x_train[:1000, :]\n",
        "partial_x_train = x_train[1000:,:]\n",
        "y_val = y_train[:1000, :]\n",
        "partial_y_train = y_train[1000:,:]"
      ],
      "metadata": {
        "id": "bXQP8eYdKMd7"
      },
      "execution_count": 10,
      "outputs": []
    },
    {
      "cell_type": "code",
      "source": [
        "history = model.fit(partial_x_train, partial_y_train,\n",
        "                    epochs=10,\n",
        "                    batch_size=512,\n",
        "                    validation_data=(x_val, y_val))\n",
        "\n",
        "model.evaluate(x_test, y_test) # test_acc : 0.7836152911186218]"
      ],
      "metadata": {
        "colab": {
          "base_uri": "https://localhost:8080/"
        },
        "id": "jbixdVHiKbfl",
        "outputId": "03f2ea46-ebb9-433c-bf35-22068173ab06"
      },
      "execution_count": 11,
      "outputs": [
        {
          "output_type": "stream",
          "name": "stdout",
          "text": [
            "Epoch 1/10\n",
            "16/16 [==============================] - 2s 62ms/step - loss: 2.5784 - accuracy: 0.5542 - val_loss: 1.6834 - val_accuracy: 0.6680\n",
            "Epoch 2/10\n",
            "16/16 [==============================] - 1s 46ms/step - loss: 1.3637 - accuracy: 0.7166 - val_loss: 1.2868 - val_accuracy: 0.7280\n",
            "Epoch 3/10\n",
            "16/16 [==============================] - 1s 44ms/step - loss: 1.0215 - accuracy: 0.7789 - val_loss: 1.1100 - val_accuracy: 0.7530\n",
            "Epoch 4/10\n",
            "16/16 [==============================] - 1s 46ms/step - loss: 0.8150 - accuracy: 0.8208 - val_loss: 1.0170 - val_accuracy: 0.7800\n",
            "Epoch 5/10\n",
            "16/16 [==============================] - 1s 45ms/step - loss: 0.6541 - accuracy: 0.8579 - val_loss: 0.9507 - val_accuracy: 0.8010\n",
            "Epoch 6/10\n",
            "16/16 [==============================] - 1s 44ms/step - loss: 0.5280 - accuracy: 0.8894 - val_loss: 0.9150 - val_accuracy: 0.8020\n",
            "Epoch 7/10\n",
            "16/16 [==============================] - 1s 45ms/step - loss: 0.4236 - accuracy: 0.9122 - val_loss: 0.9015 - val_accuracy: 0.8010\n",
            "Epoch 8/10\n",
            "16/16 [==============================] - 1s 45ms/step - loss: 0.3486 - accuracy: 0.9266 - val_loss: 0.8769 - val_accuracy: 0.8170\n",
            "Epoch 9/10\n",
            "16/16 [==============================] - 1s 46ms/step - loss: 0.2861 - accuracy: 0.9374 - val_loss: 0.8760 - val_accuracy: 0.8190\n",
            "Epoch 10/10\n",
            "16/16 [==============================] - 1s 44ms/step - loss: 0.2410 - accuracy: 0.9439 - val_loss: 0.8649 - val_accuracy: 0.8140\n",
            "71/71 [==============================] - 0s 3ms/step - loss: 0.9932 - accuracy: 0.7858\n"
          ]
        },
        {
          "output_type": "execute_result",
          "data": {
            "text/plain": [
              "[0.9931648373603821, 0.7858415246009827]"
            ]
          },
          "metadata": {},
          "execution_count": 11
        }
      ]
    },
    {
      "cell_type": "code",
      "source": [
        "def history_plot(history_dict):\n",
        "\n",
        "  keys = list(history_dict.keys())\n",
        "  train_loss = history_dict[keys[0]]\n",
        "  train_acc = history_dict[keys[1]]\n",
        "  val_loss = history_dict[keys[2]]\n",
        "  val_acc = history_dict[keys[3]]\n",
        "\n",
        "  x = np.arange(1,len(train_loss)+1).astype('int8')\n",
        "\n",
        "  plt.plot(x, train_loss, 'bo', label='train')\n",
        "  plt.plot(x, val_loss, label='val')\n",
        "  plt.title('Loss')\n",
        "  plt.legend()\n",
        "  plt.show()\n",
        "\n",
        "  plt.plot(x, train_acc, 'bo', label='train')\n",
        "  plt.plot(x, val_acc, label='val')\n",
        "  plt.title('Accuracy')\n",
        "  plt.legend()\n",
        "  plt.show()\n",
        "\n",
        "history_plot(history.history)"
      ],
      "metadata": {
        "colab": {
          "base_uri": "https://localhost:8080/",
          "height": 545
        },
        "id": "69duvKKBK7V0",
        "outputId": "a1afb0bc-afa2-47bd-ad63-56e5532bac5d"
      },
      "execution_count": 12,
      "outputs": [
        {
          "output_type": "display_data",
          "data": {
            "image/png": "[encoded data removed]",
            "text/plain": [
              "<Figure size 432x288 with 1 Axes>"
            ]
          },
          "metadata": {
            "needs_background": "light"
          }
        },
        {
          "output_type": "display_data",
          "data": {
            "image/png": "[encoded data removed]",
            "text/plain": [
              "<Figure size 432x288 with 1 Axes>"
            ]
          },
          "metadata": {
            "needs_background": "light"
          }
        }
      ]
    },
    {
      "cell_type": "markdown",
      "source": [
        "무작위로 분류할 경우 18%정도의 정확도를 가지므로 이에 비하면 결과가 좋음"
      ],
      "metadata": {
        "id": "oD--Zdw6LCcK"
      }
    },
    {
      "cell_type": "code",
      "source": [
        "import copy\n",
        "test_labels_copy = copy.copy(test_labels)\n",
        "# test_labels_copy = test_labels.copy() \n",
        "np.random.shuffle(test_labels_copy)\n",
        "hits_array = np.array(test_labels) == np.array(test_labels_copy)\n",
        "print(float(np.sum(hits_array)/len(test_labels)))"
      ],
      "metadata": {
        "colab": {
          "base_uri": "https://localhost:8080/"
        },
        "id": "kWLBgI-1MWNF",
        "outputId": "b78d705f-8d41-4fdc-b367-3d3808a238e6"
      },
      "execution_count": 13,
      "outputs": [
        {
          "output_type": "stream",
          "name": "stdout",
          "text": [
            "0.19723953695458593\n"
          ]
        }
      ]
    },
    {
      "cell_type": "markdown",
      "source": [
        "### 3.5.6 레이블과 손실을 다루는 다른 방법\n",
        "원핫인코딩이 되어있지 않은 레이블을 입력하고 싶다면\n",
        "loss를 'sparse_categorical_crossentropy'로 설정하면 된다.\n",
        "\n",
        "```\n",
        "y_train = np.array(train_labels)\n",
        "y_test = np.array(test_labels)\n",
        "\n",
        "model.compile(optimizer='rmsprop',\n",
        "              loss='sparse_categoriccal_crossentropy',\n",
        "              metrics=['accuracy'])\n",
        "\n",
        "```"
      ],
      "metadata": {
        "id": "64IZHGlwNGyc"
      }
    },
    {
      "cell_type": "markdown",
      "source": [
        "### 3.5.7 충분히 큰 중간층을 두어야 하는 이유\n",
        "마지막 출력이 46이기 때문에 중간층을 이보다 큰 64차원으로 설정   \n",
        "만약 46차원보다 더 작은 중간층이 있는 경우, 즉 정보의 병목이 있는 경우 성능이 떨어진다.  \n",
        "많은 정보를 중간층의 저차원 교현 공간으로 압축하려고했기 때문에 정보의 손실이 발생한다."
      ],
      "metadata": {
        "id": "0bhMIbTZO2tc"
      }
    },
    {
      "cell_type": "code",
      "source": [
        "from keras import models, layers\n",
        "\n",
        "model = models.Sequential()\n",
        "model.add(layers.Dense(64, activation='relu', input_shape=(10000,)))\n",
        "model.add(layers.Dense(4, activation='relu'))\n",
        "model.add(layers.Dense(46, activation='softmax'))\n",
        "\n",
        "plot_model(model, show_shapes=True)"
      ],
      "metadata": {
        "colab": {
          "base_uri": "https://localhost:8080/",
          "height": 422
        },
        "id": "os1DsDCeQVAe",
        "outputId": "02b3922a-dde4-430c-ef1e-e027319ba7fe"
      },
      "execution_count": 15,
      "outputs": [
        {
          "output_type": "execute_result",
          "data": {
            "image/png": "[encoded data removed]",
            "text/plain": [
              "<IPython.core.display.Image object>"
            ]
          },
          "metadata": {},
          "execution_count": 15
        }
      ]
    },
    {
      "cell_type": "code",
      "source": [
        "model.compile(optimizer='rmsprop',\n",
        "              loss='categorical_crossentropy',\n",
        "              metrics=['accuracy'])\n",
        "\n",
        "model.fit(partial_x_train, partial_y_train,\n",
        "          epochs=20,\n",
        "          batch_size=512,\n",
        "          validation_data=(x_val, y_val))"
      ],
      "metadata": {
        "colab": {
          "base_uri": "https://localhost:8080/"
        },
        "id": "khuxTLK4PLXA",
        "outputId": "4fe50a16-c86e-4561-ceb6-e1888aa5c66f"
      },
      "execution_count": 21,
      "outputs": [
        {
          "output_type": "stream",
          "name": "stdout",
          "text": [
            "Epoch 1/20\n",
            "16/16 [==============================] - 1s 54ms/step - loss: 0.3793 - accuracy: 0.8931 - val_loss: 2.0286 - val_accuracy: 0.7000\n",
            "Epoch 2/20\n",
            "16/16 [==============================] - 1s 46ms/step - loss: 0.3569 - accuracy: 0.8979 - val_loss: 2.0410 - val_accuracy: 0.6970\n",
            "Epoch 3/20\n",
            "16/16 [==============================] - 1s 46ms/step - loss: 0.3484 - accuracy: 0.9008 - val_loss: 2.0865 - val_accuracy: 0.6970\n",
            "Epoch 4/20\n",
            "16/16 [==============================] - 1s 43ms/step - loss: 0.3421 - accuracy: 0.9013 - val_loss: 2.1258 - val_accuracy: 0.6930\n",
            "Epoch 5/20\n",
            "16/16 [==============================] - 1s 45ms/step - loss: 0.3385 - accuracy: 0.9050 - val_loss: 2.1149 - val_accuracy: 0.7010\n",
            "Epoch 6/20\n",
            "16/16 [==============================] - 1s 45ms/step - loss: 0.3316 - accuracy: 0.9069 - val_loss: 2.1830 - val_accuracy: 0.6990\n",
            "Epoch 7/20\n",
            "16/16 [==============================] - 1s 44ms/step - loss: 0.3252 - accuracy: 0.9088 - val_loss: 2.2115 - val_accuracy: 0.7000\n",
            "Epoch 8/20\n",
            "16/16 [==============================] - 1s 45ms/step - loss: 0.3191 - accuracy: 0.9105 - val_loss: 2.2400 - val_accuracy: 0.6920\n",
            "Epoch 9/20\n",
            "16/16 [==============================] - 1s 45ms/step - loss: 0.3152 - accuracy: 0.9097 - val_loss: 2.2842 - val_accuracy: 0.7010\n",
            "Epoch 10/20\n",
            "16/16 [==============================] - 1s 46ms/step - loss: 0.3116 - accuracy: 0.9123 - val_loss: 2.3170 - val_accuracy: 0.6970\n",
            "Epoch 11/20\n",
            "16/16 [==============================] - 1s 46ms/step - loss: 0.3068 - accuracy: 0.9107 - val_loss: 2.3716 - val_accuracy: 0.6930\n",
            "Epoch 12/20\n",
            "16/16 [==============================] - 1s 45ms/step - loss: 0.3030 - accuracy: 0.9110 - val_loss: 2.3366 - val_accuracy: 0.6960\n",
            "Epoch 13/20\n",
            "16/16 [==============================] - 1s 46ms/step - loss: 0.2970 - accuracy: 0.9123 - val_loss: 2.4457 - val_accuracy: 0.6880\n",
            "Epoch 14/20\n",
            "16/16 [==============================] - 1s 46ms/step - loss: 0.2964 - accuracy: 0.9127 - val_loss: 2.4568 - val_accuracy: 0.6870\n",
            "Epoch 15/20\n",
            "16/16 [==============================] - 1s 45ms/step - loss: 0.2921 - accuracy: 0.9131 - val_loss: 2.4699 - val_accuracy: 0.6960\n",
            "Epoch 16/20\n",
            "16/16 [==============================] - 1s 46ms/step - loss: 0.2885 - accuracy: 0.9137 - val_loss: 2.4848 - val_accuracy: 0.6950\n",
            "Epoch 17/20\n",
            "16/16 [==============================] - 1s 46ms/step - loss: 0.2852 - accuracy: 0.9152 - val_loss: 2.5198 - val_accuracy: 0.6970\n",
            "Epoch 18/20\n",
            "16/16 [==============================] - 1s 45ms/step - loss: 0.2815 - accuracy: 0.9147 - val_loss: 2.5482 - val_accuracy: 0.6870\n",
            "Epoch 19/20\n",
            "16/16 [==============================] - 1s 45ms/step - loss: 0.2794 - accuracy: 0.9179 - val_loss: 2.5721 - val_accuracy: 0.6910\n",
            "Epoch 20/20\n",
            "16/16 [==============================] - 1s 44ms/step - loss: 0.2744 - accuracy: 0.9183 - val_loss: 2.6534 - val_accuracy: 0.6890\n"
          ]
        },
        {
          "output_type": "execute_result",
          "data": {
            "text/plain": [
              "<keras.callbacks.History at 0x7f1446a47d90>"
            ]
          },
          "metadata": {},
          "execution_count": 21
        }
      ]
    },
    {
      "cell_type": "code",
      "source": [
        "model.evaluate(x_test, y_test)"
      ],
      "metadata": {
        "id": "j9vL2eI8P5tp",
        "colab": {
          "base_uri": "https://localhost:8080/"
        },
        "outputId": "8fe457b5-8568-4ea0-e77c-3d7d9b850bc8"
      },
      "execution_count": 26,
      "outputs": [
        {
          "output_type": "stream",
          "name": "stdout",
          "text": [
            "71/71 [==============================] - 0s 3ms/step - loss: 3.0239 - accuracy: 0.6834\n"
          ]
        },
        {
          "output_type": "execute_result",
          "data": {
            "text/plain": [
              "[3.0239291191101074, 0.6834372282028198]"
            ]
          },
          "metadata": {},
          "execution_count": 26
        }
      ]
    },
    {
      "cell_type": "code",
      "source": [
        ""
      ],
      "metadata": {
        "id": "tAm9fagfWCc5"
      },
      "execution_count": null,
      "outputs": []
    }
  ]
}