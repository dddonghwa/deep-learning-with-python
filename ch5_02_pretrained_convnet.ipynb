{
  "nbformat": 4,
  "nbformat_minor": 0,
  "metadata": {
    "colab": {
      "name": "ch5_02_pretrained_convnet.ipynb",
      "provenance": [],
      "authorship_tag": "ABX9TyNAu6qkRNilRrL7XjNXe1u+",
      "include_colab_link": true
    },
    "kernelspec": {
      "name": "python3",
      "display_name": "Python 3"
    },
    "language_info": {
      "name": "python"
    },
    "accelerator": "GPU"
  },
  "cells": [
    {
      "cell_type": "markdown",
      "metadata": {
        "id": "view-in-github",
        "colab_type": "text"
      },
      "source": [
        "<a href=\"https://colab.research.google.com/github/dddonghwa/deep-learning-with-python/blob/main/ch5_02_pretrained_convnet.ipynb\" target=\"_parent\"><img src=\"https://colab.research.google.com/assets/colab-badge.svg\" alt=\"Open In Colab\"/></a>"
      ]
    },
    {
      "cell_type": "markdown",
      "source": [
        "## 5.3 사전 훈련된 컨브넷 사용하기"
      ],
      "metadata": {
        "id": "5lfpDo4YIeWr"
      }
    },
    {
      "cell_type": "markdown",
      "source": [
        "#### 사전 훈련된 네트워크(pretrained network)란?\n",
        "대규모 이미지 분류 문제를 위해 대량의 데이터셋에서 미리 훈련되어 저장된 네트워크,  \n",
        "학습된 데이터셋이 충분히 크고 일반적이라면 사전 훈련된 네트워크에 의해 학습된 특성의 계층 구조는 실제 세상에 대한 일반적인 모델로 효율적인 역할을 할 수 있음  \n",
        "데이터셋 예) ImageNet\n",
        "\n",
        "#### 예제\n",
        "- 모델 : VGG16\n",
        "- 훈련된 데이터셋 : ImageNet (1400만개의 레이블된 이미지와 1000개의 클래스로 구성)\n",
        "\n",
        "#### 사전 훈련된 네트워크를 사용하는 방법\n",
        "1) 특성 추출 Feature Extraction  \n",
        "2) 미세 조정 Fine Tuning"
      ],
      "metadata": {
        "id": "qf8CGofHJr97"
      }
    },
    {
      "cell_type": "markdown",
      "source": [
        "### 5.3.1 특성 추출\n",
        "사전에 학습된 네트워크의 표현(representation)을 사용하여 새로운 샘플에서 흥미로운 특성을 뽑아내는 것\n",
        "\n",
        "사전 훈련된 네트워크 = 합성곱 기반 층(convolutional base) + <U>완전 연결 분류기(FC classifier)</U>  \n",
        "새로 학습할 네트워크 = 합성곱 기반 층 + <U>새로운 분류기</U>  \n",
        "\n",
        "#### 분류기를 새로 학습하는 이유?  \n",
        "모델이 훈련한 클래스 집합에 특화되어 있기 때문에  \n",
        "분류기는 이미지에 어떤 클래스가 존재할 확률에 관한 정보를 담고 있는데, 해당 클래스가 우리가 얻고자하는 클래스가 아닌 경우가 많다.   \n",
        "또한 분류가 아닌 문제(예.객체 탐지, 이미지 분할 등)이라면 위치 정보를 없애는 완전 연결층 (FC layer)를 제거해야 한다.\n",
        "\n",
        "#### 합성곱 기반 층의 깊이에 따른 피처들?\n",
        "모델의 하위층 - 지역적이고 매우 일반적인 특성 예) 엣지, 색깔, 질감 등  \n",
        "모델의 상위 층 - 추상적인 개념 예) 강아지 눈, 고양이 귀  \n",
        "새로운 데이터셋이 원본 모델이 훈련한 데이터셋과 많이 다르다면 전체 합성곱 기반층을 사용하는 것보다 모델의 하위 층 몇개만 특성 추출에 사용하는 것이 좋다.\n",
        "\n",
        "### 케라스에서 사용 가능한 사전에 학습된 네트워크\n",
        "VGG16, Xception, Inception V3, ResNet 50 등등 [링크](https://keras.io/api/applications/)"
      ],
      "metadata": {
        "id": "Vju2SOOHKDZx"
      }
    },
    {
      "cell_type": "code",
      "source": [
        "# 5-16 VGG16 합성곱 기반 층 만들기\n",
        "from tensorflow.keras.applications import VGG16\n",
        "\n",
        "conv_base = VGG16(weights='imagenet', # 초기화할 가중치 체크포인트 지정\n",
        "                  include_top=False, # 최상위 FC레이어 포함/비포함 여부(default=True)\n",
        "                  input_shape=(150,150,3)) \n",
        "\n",
        "conv_base.summary()"
      ],
      "metadata": {
        "colab": {
          "base_uri": "https://localhost:8080/"
        },
        "id": "jf-1nnhHK73M",
        "outputId": "eb01731b-582c-4ad4-f95c-58178986c632"
      },
      "execution_count": null,
      "outputs": [
        {
          "output_type": "stream",
          "name": "stdout",
          "text": [
            "Downloading data from https://storage.googleapis.com/tensorflow/keras-applications/vgg16/vgg16_weights_tf_dim_ordering_tf_kernels_notop.h5\n",
            "58892288/58889256 [==============================] - 0s 0us/step\n",
            "58900480/58889256 [==============================] - 0s 0us/step\n",
            "Model: \"vgg16\"\n",
            "_________________________________________________________________\n",
            " Layer (type)                Output Shape              Param #   \n",
            "=================================================================\n",
            " input_1 (InputLayer)        [(None, 150, 150, 3)]     0         \n",
            "                                                                 \n",
            " block1_conv1 (Conv2D)       (None, 150, 150, 64)      1792      \n",
            "                                                                 \n",
            " block1_conv2 (Conv2D)       (None, 150, 150, 64)      36928     \n",
            "                                                                 \n",
            " block1_pool (MaxPooling2D)  (None, 75, 75, 64)        0         \n",
            "                                                                 \n",
            " block2_conv1 (Conv2D)       (None, 75, 75, 128)       73856     \n",
            "                                                                 \n",
            " block2_conv2 (Conv2D)       (None, 75, 75, 128)       147584    \n",
            "                                                                 \n",
            " block2_pool (MaxPooling2D)  (None, 37, 37, 128)       0         \n",
            "                                                                 \n",
            " block3_conv1 (Conv2D)       (None, 37, 37, 256)       295168    \n",
            "                                                                 \n",
            " block3_conv2 (Conv2D)       (None, 37, 37, 256)       590080    \n",
            "                                                                 \n",
            " block3_conv3 (Conv2D)       (None, 37, 37, 256)       590080    \n",
            "                                                                 \n",
            " block3_pool (MaxPooling2D)  (None, 18, 18, 256)       0         \n",
            "                                                                 \n",
            " block4_conv1 (Conv2D)       (None, 18, 18, 512)       1180160   \n",
            "                                                                 \n",
            " block4_conv2 (Conv2D)       (None, 18, 18, 512)       2359808   \n",
            "                                                                 \n",
            " block4_conv3 (Conv2D)       (None, 18, 18, 512)       2359808   \n",
            "                                                                 \n",
            " block4_pool (MaxPooling2D)  (None, 9, 9, 512)         0         \n",
            "                                                                 \n",
            " block5_conv1 (Conv2D)       (None, 9, 9, 512)         2359808   \n",
            "                                                                 \n",
            " block5_conv2 (Conv2D)       (None, 9, 9, 512)         2359808   \n",
            "                                                                 \n",
            " block5_conv3 (Conv2D)       (None, 9, 9, 512)         2359808   \n",
            "                                                                 \n",
            " block5_pool (MaxPooling2D)  (None, 4, 4, 512)         0         \n",
            "                                                                 \n",
            "=================================================================\n",
            "Total params: 14,714,688\n",
            "Trainable params: 14,714,688\n",
            "Non-trainable params: 0\n",
            "_________________________________________________________________\n"
          ]
        }
      ]
    },
    {
      "cell_type": "markdown",
      "source": [
        "`conv_base`를 통과한 출력은 (4,4,512) 크기를 갖음\n",
        "\n",
        "#### 1) 데이터 증식을 사용하지 않은 빠른 특성 추출  \n",
        "새로운 이미지를 `conv_base`에 입력해서 나온 출력을 numpy 배열로 저장 → 독립된 FC layer에 입력으로 사용하여 분류기 학습시킴 \n",
        "- 새로운 이미지 전체를 `conv_base`에 한번만 입력하면 되기 때문에 빠르고 비용이 적게 듬 \n",
        "- 하지만 데이터 증식은 사용할 수 없음\n",
        "\n",
        "#### 2) 데이터 증식을 통한 특성 추출 \n",
        "`conv_base` 모델 위에 Dense 층을 쌓아 확장 → 입력 데이터에서 end-to-end로 전체 모델을 실행\n",
        "- 모델에 노출된 모든 이미지가 매번 `conv_base`를 통과하기 때문에 데이터 증식 사용 가능\n",
        "- 하지만 1)보다 비용 많이 듬\n",
        "\n",
        "__Q.데이터 증식 가능 여부 이유를 잘 모르겠음, 결국 새로운 이미지를 모두 conv_base에 통과시키는 것 아닌가?__  \n",
        "A. 책에서 데이터증식을 사용하는 이유는 학습동안 같은 이미지 한번이상 절대 보지 않겠다는 의도라고 하고 있습니다. 1) 방법도 증식을 해서 conv net을 통과 시키고 저장해서 사용하면 되겠지만 이렇게 해서는 같은 이미지를 한번 이상 보지 않는다는 의도를 지킬 수가 없습니다. 단지 그냥 데이터 셋이 더 커진것 뿐입니다. 2)는 배치를 구성한 다음 실시간으로 배치에 포함된 이미지를 무작위로 바꿔버리기 때문에 학습동안 같은 이미지가 입력되는 경우가 없어지게 되는 것입니다. [tensorflowKR 페이스북](https://www.facebook.com/groups/TensorFlowKR/permalink/823681491306244/?comment_id=824915164516210&reply_comment_id=826293474378379)"
      ],
      "metadata": {
        "id": "lZSFvP3AO053"
      }
    },
    {
      "cell_type": "markdown",
      "source": [
        "### 1) 데이터 증식을 사용하지 않은 빠른 특성 추출"
      ],
      "metadata": {
        "id": "1y7UfgtzV7EA"
      }
    },
    {
      "cell_type": "code",
      "source": [
        "# zip 파일 압축 풀기\n",
        "import zipfile\n",
        "    \t\n",
        "dataset_zip = zipfile.ZipFile('/content/dataset_small.zip')\n",
        "dataset_zip.extractall('/content/')\n",
        "\n",
        "dataset_zip.close()"
      ],
      "metadata": {
        "id": "w_hYKmPkTDx7"
      },
      "execution_count": null,
      "outputs": []
    },
    {
      "cell_type": "code",
      "source": [
        "# [CAUTION] it takes around 10 mins\n",
        "# 코드 5-17 사전 훈련된 conv_base을 사용한 특성 추출하기\n",
        "import os\n",
        "import os.path as osp\n",
        "import numpy as np\n",
        "from keras.preprocessing.image import ImageDataGenerator\n",
        "\n",
        "base_dir = './dataset_small/'\n",
        "train_dir = osp.join(base_dir, 'train')\n",
        "val_dir = osp.join(base_dir, 'val')\n",
        "test_dir = osp.join(base_dir, 'test')\n",
        "\n",
        "datagen = ImageDataGenerator(rescale=1./255)\n",
        "batch_size=20\n",
        "\n",
        "def extract_feature(directory, sample_count):\n",
        "  features = np.zeros(shape=(sample_count, 4,4,512))\n",
        "  labels = np.zeros(shape=(sample_count))\n",
        "  generator = datagen.flow_from_directory(\n",
        "      train_dir,\n",
        "      target_size=(150,150),\n",
        "      class_mode='binary',\n",
        "      batch_size=batch_size\n",
        "  )\n",
        "  i = 0 \n",
        "  for inputs_batch, labels_batch in generator :\n",
        "    features_batch = conv_base.predict(inputs_batch)\n",
        "    features[i*batch_size:(i+1)*batch_size] = features_batch\n",
        "    labels[i*batch_size:(i+1)*batch_size] = labels_batch\n",
        "    i += 1\n",
        "    if i * batch_size >= sample_count :\n",
        "      break\n",
        "\n",
        "  return features, labels\n",
        "\n",
        "train_features, train_labels = extract_feature(train_dir, 2000)\n",
        "val_features, val_labels = extract_feature(val_dir, 1000)\n",
        "test_features, test_labels = extract_feature(test_dir, 1000)\n",
        "\n"
      ],
      "metadata": {
        "colab": {
          "base_uri": "https://localhost:8080/"
        },
        "id": "j2JzfY7bQSMb",
        "outputId": "28135013-d4e9-4954-d800-909685e41745"
      },
      "execution_count": null,
      "outputs": [
        {
          "output_type": "stream",
          "name": "stdout",
          "text": [
            "Found 2000 images belonging to 2 classes.\n",
            "Found 2000 images belonging to 2 classes.\n",
            "Found 2000 images belonging to 2 classes.\n"
          ]
        }
      ]
    },
    {
      "cell_type": "code",
      "source": [
        "train_features = train_features.reshape((2000,4*4*512))\n",
        "test_features = test_features.reshape((1000, 4*4*512))\n",
        "val_features = val_features.reshape((1000, 4*4*512))"
      ],
      "metadata": {
        "id": "OM1p3HAuTvjf"
      },
      "execution_count": null,
      "outputs": []
    },
    {
      "cell_type": "code",
      "source": [
        "# save \n",
        "np.save('/content/train_features.npy', train_features)\n",
        "np.save('/content/test_features.npy', test_features)\n",
        "np.save('/content/val_features.npy', val_features)"
      ],
      "metadata": {
        "id": "Yos0_6L7XEPU"
      },
      "execution_count": null,
      "outputs": []
    },
    {
      "cell_type": "markdown",
      "source": [
        "FC layer를 새롭게 정의하고(드롭아웃 포함) 저장된 데이터와 레이블을 사용하여 훈련"
      ],
      "metadata": {
        "id": "P1QRTcQlUxPf"
      }
    },
    {
      "cell_type": "code",
      "source": [
        "# 5-16 FC layer 정의하고 훈련하기\n",
        "\n",
        "from keras import models, layers\n",
        "from tensorflow.keras import optimizers\n",
        "\n",
        "model = models.Sequential()\n",
        "model.add(layers.Dense(256, activation='relu', input_dim=4*4*512))\n",
        "model.add(layers.Dropout(0.5))\n",
        "model.add(layers.Dense(1, activation='sigmoid'))\n",
        "\n",
        "model.compile(loss='binary_crossentropy',\n",
        "              optimizer = optimizers.RMSprop(2e-5),\n",
        "              metrics=['accuracy'])\n",
        "\n",
        "history = model.fit(train_features, train_labels,\n",
        "          validation_data=(val_features, val_labels),\n",
        "          epochs=30,\n",
        "          batch_size=20)"
      ],
      "metadata": {
        "colab": {
          "base_uri": "https://localhost:8080/"
        },
        "id": "MvOohPgoUZGE",
        "outputId": "79795f0f-4e95-4489-dd65-4de5f89c0b9d"
      },
      "execution_count": null,
      "outputs": [
        {
          "output_type": "stream",
          "name": "stdout",
          "text": [
            "Epoch 1/30\n",
            "100/100 [==============================] - 4s 32ms/step - loss: 0.6365 - accuracy: 0.6450 - val_loss: 0.4204 - val_accuracy: 0.8490\n",
            "Epoch 2/30\n",
            "100/100 [==============================] - 3s 29ms/step - loss: 0.4308 - accuracy: 0.7995 - val_loss: 0.3253 - val_accuracy: 0.8890\n",
            "Epoch 3/30\n",
            "100/100 [==============================] - 3s 32ms/step - loss: 0.3663 - accuracy: 0.8440 - val_loss: 0.2810 - val_accuracy: 0.9030\n",
            "Epoch 4/30\n",
            "100/100 [==============================] - 3s 33ms/step - loss: 0.3185 - accuracy: 0.8650 - val_loss: 0.2520 - val_accuracy: 0.9140\n",
            "Epoch 5/30\n",
            "100/100 [==============================] - 3s 32ms/step - loss: 0.2853 - accuracy: 0.8880 - val_loss: 0.2315 - val_accuracy: 0.9220\n",
            "Epoch 6/30\n",
            "100/100 [==============================] - 3s 30ms/step - loss: 0.2609 - accuracy: 0.9025 - val_loss: 0.2122 - val_accuracy: 0.9330\n",
            "Epoch 7/30\n",
            "100/100 [==============================] - 3s 30ms/step - loss: 0.2523 - accuracy: 0.8985 - val_loss: 0.1981 - val_accuracy: 0.9380\n",
            "Epoch 8/30\n",
            "100/100 [==============================] - 3s 29ms/step - loss: 0.2307 - accuracy: 0.9165 - val_loss: 0.1882 - val_accuracy: 0.9390\n",
            "Epoch 9/30\n",
            "100/100 [==============================] - 3s 26ms/step - loss: 0.2206 - accuracy: 0.9225 - val_loss: 0.1768 - val_accuracy: 0.9430\n",
            "Epoch 10/30\n",
            "100/100 [==============================] - 3s 25ms/step - loss: 0.2048 - accuracy: 0.9255 - val_loss: 0.1681 - val_accuracy: 0.9480\n",
            "Epoch 11/30\n",
            "100/100 [==============================] - 3s 28ms/step - loss: 0.1933 - accuracy: 0.9330 - val_loss: 0.1559 - val_accuracy: 0.9550\n",
            "Epoch 12/30\n",
            "100/100 [==============================] - 3s 27ms/step - loss: 0.1840 - accuracy: 0.9345 - val_loss: 0.1480 - val_accuracy: 0.9530\n",
            "Epoch 13/30\n",
            "100/100 [==============================] - 3s 26ms/step - loss: 0.1764 - accuracy: 0.9365 - val_loss: 0.1447 - val_accuracy: 0.9540\n",
            "Epoch 14/30\n",
            "100/100 [==============================] - 3s 28ms/step - loss: 0.1700 - accuracy: 0.9380 - val_loss: 0.1346 - val_accuracy: 0.9590\n",
            "Epoch 15/30\n",
            "100/100 [==============================] - 3s 32ms/step - loss: 0.1640 - accuracy: 0.9425 - val_loss: 0.1286 - val_accuracy: 0.9590\n",
            "Epoch 16/30\n",
            "100/100 [==============================] - 3s 31ms/step - loss: 0.1523 - accuracy: 0.9480 - val_loss: 0.1252 - val_accuracy: 0.9620\n",
            "Epoch 17/30\n",
            "100/100 [==============================] - 3s 31ms/step - loss: 0.1452 - accuracy: 0.9505 - val_loss: 0.1164 - val_accuracy: 0.9650\n",
            "Epoch 18/30\n",
            "100/100 [==============================] - 3s 30ms/step - loss: 0.1366 - accuracy: 0.9595 - val_loss: 0.1113 - val_accuracy: 0.9670\n",
            "Epoch 19/30\n",
            "100/100 [==============================] - 3s 29ms/step - loss: 0.1344 - accuracy: 0.9570 - val_loss: 0.1173 - val_accuracy: 0.9680\n",
            "Epoch 20/30\n",
            "100/100 [==============================] - 3s 28ms/step - loss: 0.1293 - accuracy: 0.9585 - val_loss: 0.1041 - val_accuracy: 0.9740\n",
            "Epoch 21/30\n",
            "100/100 [==============================] - 3s 27ms/step - loss: 0.1273 - accuracy: 0.9565 - val_loss: 0.0986 - val_accuracy: 0.9760\n",
            "Epoch 22/30\n",
            "100/100 [==============================] - 3s 27ms/step - loss: 0.1185 - accuracy: 0.9610 - val_loss: 0.0945 - val_accuracy: 0.9730\n",
            "Epoch 23/30\n",
            "100/100 [==============================] - 3s 29ms/step - loss: 0.1173 - accuracy: 0.9610 - val_loss: 0.0916 - val_accuracy: 0.9700\n",
            "Epoch 24/30\n",
            "100/100 [==============================] - 3s 29ms/step - loss: 0.1128 - accuracy: 0.9665 - val_loss: 0.0875 - val_accuracy: 0.9790\n",
            "Epoch 25/30\n",
            "100/100 [==============================] - 3s 33ms/step - loss: 0.1024 - accuracy: 0.9710 - val_loss: 0.0870 - val_accuracy: 0.9710\n",
            "Epoch 26/30\n",
            "100/100 [==============================] - 4s 35ms/step - loss: 0.0977 - accuracy: 0.9690 - val_loss: 0.0791 - val_accuracy: 0.9810\n",
            "Epoch 27/30\n",
            "100/100 [==============================] - 3s 31ms/step - loss: 0.0989 - accuracy: 0.9690 - val_loss: 0.0872 - val_accuracy: 0.9710\n",
            "Epoch 28/30\n",
            "100/100 [==============================] - 3s 32ms/step - loss: 0.0966 - accuracy: 0.9705 - val_loss: 0.0814 - val_accuracy: 0.9820\n",
            "Epoch 29/30\n",
            "100/100 [==============================] - 3s 29ms/step - loss: 0.0897 - accuracy: 0.9700 - val_loss: 0.0700 - val_accuracy: 0.9840\n",
            "Epoch 30/30\n",
            "100/100 [==============================] - 3s 27ms/step - loss: 0.0906 - accuracy: 0.9680 - val_loss: 0.0673 - val_accuracy: 0.9860\n"
          ]
        }
      ]
    },
    {
      "cell_type": "code",
      "source": [
        "import matplotlib.pyplot as plt\n",
        "import numpy as np\n",
        "\n",
        "def plot_history(history_dict):\n",
        "  acc = history_dict['accuracy']\n",
        "  val_acc = history_dict['val_accuracy']\n",
        "  loss = history_dict['loss']\n",
        "  val_loss = history_dict['val_loss']\n",
        "\n",
        "  epochs = np.arange(1, len(acc)+1)\n",
        "  plt.plot(epochs, acc, 'bo',label='train')\n",
        "  plt.plot(epochs, val_acc, label='val')\n",
        "  plt.title('Accuracy')\n",
        "  plt.legend()\n",
        "  plt.show()\n",
        "\n",
        "  plt.plot(epochs, loss, 'bo', label='train')\n",
        "  plt.plot(epochs, val_loss, label='val')\n",
        "  plt.title('Loss')\n",
        "  plt.legend()\n",
        "  plt.show()\n",
        "\n",
        "\n",
        "plot_history(history.history)"
      ],
      "metadata": {
        "colab": {
          "base_uri": "https://localhost:8080/",
          "height": 545
        },
        "id": "0RA_OAfTRzpR",
        "outputId": "d5a14343-e5dc-4a66-88f0-b4a5d27cecff"
      },
      "execution_count": null,
      "outputs": [
        {
          "output_type": "display_data",
          "data": {
            "image/png": "[encoded data removed]",
            "text/plain": [
              "<Figure size 432x288 with 1 Axes>"
            ]
          },
          "metadata": {
            "needs_background": "light"
          }
        },
        {
          "output_type": "display_data",
          "data": {
            "image/png": "[encoded data removed]",
            "text/plain": [
              "<Figure size 432x288 with 1 Axes>"
            ]
          },
          "metadata": {
            "needs_background": "light"
          }
        }
      ]
    },
    {
      "cell_type": "markdown",
      "source": [
        "### 2) 데이터 증식을 사용한 특성 추출\n",
        "데이터\n",
        "\n",
        "\n"
      ],
      "metadata": {
        "id": "i3dPy3pFWIwN"
      }
    },
    {
      "cell_type": "code",
      "source": [
        "# 5-14 사전 훈련된 합성곱 기반 층을 사용한 특성 추출하기\n",
        "import os\n",
        "import numpy as np\n",
        "import keras.preprocessing.image import ImageDataGenerator"
      ],
      "metadata": {
        "id": "IkesizsrWKo7"
      },
      "execution_count": null,
      "outputs": []
    }
  ]
}