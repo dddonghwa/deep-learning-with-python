{
  "nbformat": 4,
  "nbformat_minor": 0,
  "metadata": {
    "colab": {
      "name": "ch01_mathematical_components_of_neural_network.ipynb",
      "provenance": [],
      "collapsed_sections": [],
      "authorship_tag": "ABX9TyPnrMJIgNPcKsuwb5XH8Uhs",
      "include_colab_link": true
    },
    "kernelspec": {
      "name": "python3",
      "display_name": "Python 3"
    },
    "language_info": {
      "name": "python"
    }
  },
  "cells": [
    {
      "cell_type": "markdown",
      "metadata": {
        "id": "view-in-github",
        "colab_type": "text"
      },
      "source": [
        "<a href=\"https://colab.research.google.com/github/dddonghwa/deep-learning-with-python/blob/main/ch01_mathematical_components_of_neural_network.ipynb\" target=\"_parent\"><img src=\"https://colab.research.google.com/assets/colab-badge.svg\" alt=\"Open In Colab\"/></a>"
      ]
    },
    {
      "cell_type": "markdown",
      "metadata": {
        "id": "ieaiCJLR-kUK"
      },
      "source": [
        "# chapter 02 | 시작하기 전에 : 신경망의 수학적 구성 요소\n",
        "\n",
        "## 2.1 신경망과의 첫 만남\n",
        "\n",
        "#### MNIST 데이터세트\n",
        "\n",
        "<img src='https://upload.wikimedia.org/wikipedia/commons/thumb/2/27/MnistExamples.png/440px-MnistExamples.png'>   \n",
        "*이미지 출처 : 위키피디아*"
      ]
    },
    {
      "cell_type": "code",
      "metadata": {
        "colab": {
          "base_uri": "https://localhost:8080/"
        },
        "id": "wbVffGYE4oXn",
        "outputId": "e24c5231-9664-4aec-8921-97540fe63263"
      },
      "source": [
        "! pip install keras"
      ],
      "execution_count": 1,
      "outputs": [
        {
          "output_type": "stream",
          "name": "stdout",
          "text": [
            "Requirement already satisfied: keras in /usr/local/lib/python3.7/dist-packages (2.6.0)\n"
          ]
        }
      ]
    },
    {
      "cell_type": "code",
      "metadata": {
        "colab": {
          "base_uri": "https://localhost:8080/"
        },
        "id": "LWDffbgr4lsw",
        "outputId": "15c44bd2-d15d-4844-c276-b384c3d51531"
      },
      "source": [
        "# 코드 2-1 케라스에서 MNIST 데이터셋 적재하기\n",
        "from keras.datasets import mnist\n",
        "\n",
        "(train_images, train_labels), (test_images, test_labels) = mnist.load_data()\n",
        "print(train_images.shape, train_labels.shape)\n",
        "print(test_images.shape, test_labels.shape)"
      ],
      "execution_count": 5,
      "outputs": [
        {
          "output_type": "stream",
          "name": "stdout",
          "text": [
            "(60000, 28, 28) (60000,)\n",
            "(10000, 28, 28) (10000,)\n"
          ]
        }
      ]
    },
    {
      "cell_type": "markdown",
      "metadata": {
        "id": "Pnl2wDssCT49"
      },
      "source": [
        "#### 신경망 구조\n",
        "- 2개의 신경망 층(layer)\n",
        "- 28*28인 데이터 입력 → 512개의 뉴런 (은닉층) → 10개의 뉴런 (소프트맥스/출력 층)"
      ]
    },
    {
      "cell_type": "code",
      "metadata": {
        "id": "TPeFkkU95Mu6"
      },
      "source": [
        "# 코드 2-2 신경망 구조\n",
        "\n",
        "from keras import models\n",
        "from keras import layers\n",
        "\n",
        "network = models.Sequential()\n",
        "network.add(layers.Dense(512, activation='relu', input_shape=(28*28,)))\n",
        "network.add(layers.Dense(10, activation='softmax'))"
      ],
      "execution_count": 7,
      "outputs": []
    },
    {
      "cell_type": "markdown",
      "metadata": {
        "id": "GFHA00zGC3d0"
      },
      "source": [
        "#### 컴파일 단계\n",
        "1) 손실 함수 : 출력값과 타겟값의 차이를 계산하는 함수  \n",
        "2) 옵티마이저 : 손실함수를 감소시키는 방향으로 신경망을 업데이트하는 메커니즘   \n",
        "3) 훈련과 테스트 과정을 모니터링할 지표"
      ]
    },
    {
      "cell_type": "code",
      "metadata": {
        "id": "ukz5RHBSCTKD"
      },
      "source": [
        "# 코드 2-3 컴파일 단계\n",
        "\n",
        "network.compile(optimizer='rmsprop',\n",
        "                loss='categorical_crossentropy',\n",
        "                metrics=['accuracy'])"
      ],
      "execution_count": 8,
      "outputs": []
    },
    {
      "cell_type": "markdown",
      "metadata": {
        "id": "P5bZBAfRFzqY"
      },
      "source": [
        "데이터를 신경망에 맞는 크기(n_images, n_pixels)로 바꾸고 모든 값을 (0,1) 사이 값으로 스케일링"
      ]
    },
    {
      "cell_type": "code",
      "metadata": {
        "id": "ms7kAMuZ5iPp"
      },
      "source": [
        "# 코드 2-4 이미지 데이터 준비하기\n",
        "\n",
        "train_images = train_images.reshape((60000, 28 * 28))\n",
        "train_images = train_images.astype('float32')/255\n",
        "\n",
        "test_images = test_images.reshape((10000, 28*28))\n",
        "test_images = test_images.astype('float32')/255"
      ],
      "execution_count": 10,
      "outputs": []
    },
    {
      "cell_type": "code",
      "metadata": {
        "colab": {
          "base_uri": "https://localhost:8080/"
        },
        "id": "_jkEqkxSGlr5",
        "outputId": "6b09a448-a915-480e-cb92-28bbb4b54a1f"
      },
      "source": [
        "! pip install np_utils"
      ],
      "execution_count": 12,
      "outputs": [
        {
          "output_type": "stream",
          "name": "stdout",
          "text": [
            "Collecting np_utils\n",
            "  Downloading np_utils-0.5.12.1.tar.gz (61 kB)\n",
            "\u001b[?25l\r\u001b[K     |█████▍                          | 10 kB 28.3 MB/s eta 0:00:01\r\u001b[K     |██████████▊                     | 20 kB 25.6 MB/s eta 0:00:01\r\u001b[K     |████████████████                | 30 kB 17.9 MB/s eta 0:00:01\r\u001b[K     |█████████████████████▍          | 40 kB 15.7 MB/s eta 0:00:01\r\u001b[K     |██████████████████████████▊     | 51 kB 7.4 MB/s eta 0:00:01\r\u001b[K     |████████████████████████████████| 61 kB 4.7 MB/s \n",
            "\u001b[?25hRequirement already satisfied: numpy>=1.0 in /usr/local/lib/python3.7/dist-packages (from np_utils) (1.19.5)\n",
            "Requirement already satisfied: future>=0.16 in /usr/local/lib/python3.7/dist-packages (from np_utils) (0.16.0)\n",
            "Building wheels for collected packages: np-utils\n",
            "  Building wheel for np-utils (setup.py) ... \u001b[?25l\u001b[?25hdone\n",
            "  Created wheel for np-utils: filename=np_utils-0.5.12.1-py3-none-any.whl size=57131 sha256=a976fca274bac690c1fb3c08234ebd4934c187116042490f7a8c005a22b479d4\n",
            "  Stored in directory: /root/.cache/pip/wheels/8c/4e/ef/095c24693723c329f4cdc1079861cdbb2487d4b41b2496a4e7\n",
            "Successfully built np-utils\n",
            "Installing collected packages: np-utils\n",
            "Successfully installed np-utils-0.5.12.1\n"
          ]
        }
      ]
    },
    {
      "cell_type": "markdown",
      "metadata": {
        "id": "dmYPg6IkGuib"
      },
      "source": [
        "범주형 데이터인 레이블을 원핫인코딩으로"
      ]
    },
    {
      "cell_type": "code",
      "metadata": {
        "colab": {
          "base_uri": "https://localhost:8080/"
        },
        "id": "VyWBAdbTGG3I",
        "outputId": "2d8ef8fc-2eb6-4ba9-a8f0-7bc419707982"
      },
      "source": [
        "# 코드 2-5 레이블 준비하기\n",
        "from keras.utils.np_utils import to_categorical\n",
        "# from keras.utils import to_categorical\n",
        "\n",
        "train_labels = to_categorical(train_labels)\n",
        "test_labels = to_categorical(test_labels)\n",
        "\n",
        "print(train_labels[:10])"
      ],
      "execution_count": 13,
      "outputs": [
        {
          "output_type": "stream",
          "name": "stdout",
          "text": [
            "[[0. 0. 0. 0. 0. 1. 0. 0. 0. 0.]\n",
            " [1. 0. 0. 0. 0. 0. 0. 0. 0. 0.]\n",
            " [0. 0. 0. 0. 1. 0. 0. 0. 0. 0.]\n",
            " [0. 1. 0. 0. 0. 0. 0. 0. 0. 0.]\n",
            " [0. 0. 0. 0. 0. 0. 0. 0. 0. 1.]\n",
            " [0. 0. 1. 0. 0. 0. 0. 0. 0. 0.]\n",
            " [0. 1. 0. 0. 0. 0. 0. 0. 0. 0.]\n",
            " [0. 0. 0. 1. 0. 0. 0. 0. 0. 0.]\n",
            " [0. 1. 0. 0. 0. 0. 0. 0. 0. 0.]\n",
            " [0. 0. 0. 0. 1. 0. 0. 0. 0. 0.]]\n"
          ]
        }
      ]
    },
    {
      "cell_type": "markdown",
      "metadata": {
        "id": "2G92CMfjGUCe"
      },
      "source": [
        "모델 학습"
      ]
    },
    {
      "cell_type": "code",
      "metadata": {
        "colab": {
          "base_uri": "https://localhost:8080/"
        },
        "id": "qLfcr8dAG-NO",
        "outputId": "7d263c32-0263-45bf-f8c9-ca0017939f15"
      },
      "source": [
        "network.fit(train_images, train_labels, epochs=5, batch_size=128)"
      ],
      "execution_count": 16,
      "outputs": [
        {
          "output_type": "stream",
          "name": "stdout",
          "text": [
            "Epoch 1/5\n",
            "469/469 [==============================] - 4s 7ms/step - loss: 0.2540 - accuracy: 0.9265\n",
            "Epoch 2/5\n",
            "469/469 [==============================] - 3s 6ms/step - loss: 0.1033 - accuracy: 0.9695\n",
            "Epoch 3/5\n",
            "469/469 [==============================] - 3s 6ms/step - loss: 0.0679 - accuracy: 0.9797\n",
            "Epoch 4/5\n",
            "469/469 [==============================] - 3s 7ms/step - loss: 0.0493 - accuracy: 0.9851\n",
            "Epoch 5/5\n",
            "469/469 [==============================] - 3s 6ms/step - loss: 0.0367 - accuracy: 0.9894\n"
          ]
        },
        {
          "output_type": "execute_result",
          "data": {
            "text/plain": [
              "<keras.callbacks.History at 0x7f3dcb8e8dd0>"
            ]
          },
          "metadata": {},
          "execution_count": 16
        }
      ]
    },
    {
      "cell_type": "code",
      "metadata": {
        "colab": {
          "base_uri": "https://localhost:8080/"
        },
        "id": "hhX7KGq8HGSm",
        "outputId": "2aca7c47-eeaf-411c-e5a1-1df5e167495d"
      },
      "source": [
        "test_loss, test_acc = network.evaluate(test_images, test_labels)\n",
        "print(\"test_acc :\", test_acc)"
      ],
      "execution_count": 17,
      "outputs": [
        {
          "output_type": "stream",
          "name": "stdout",
          "text": [
            "313/313 [==============================] - 1s 2ms/step - loss: 0.0639 - accuracy: 0.9797\n",
            "test_acc : 0.9797000288963318\n"
          ]
        }
      ]
    },
    {
      "cell_type": "markdown",
      "metadata": {
        "id": "AAMo3EJSHQF_"
      },
      "source": [
        "#### 결과\n",
        "- 훈련 세트 정확도 98.94%, 테스트 세트 정확도 : 97.97% → 과적합"
      ]
    },
    {
      "cell_type": "markdown",
      "metadata": {
        "id": "rjPeSmxAHh4D"
      },
      "source": [
        "## 2.2 신경망을 위한 데이터 표현\n",
        "\n",
        "#### ndim\n",
        "- 데이터의 차원수 \n",
        "- 텐서의 축 개수, 랭크(rank)라고도 부름\n"
      ]
    },
    {
      "cell_type": "code",
      "metadata": {
        "colab": {
          "base_uri": "https://localhost:8080/"
        },
        "id": "viV8lFg3IAcR",
        "outputId": "ed6ea7f3-5de2-4511-9248-7f8cf0ce7599"
      },
      "source": [
        "from keras.datasets import mnist\n",
        "\n",
        "(train_images, train_labels), (test_images, test_labels) = mnist.load_data()\n",
        "\n",
        "print(train_images.ndim)\n",
        "print(train_images.shape)\n",
        "print(train_images.dtype)"
      ],
      "execution_count": 19,
      "outputs": [
        {
          "output_type": "stream",
          "name": "stdout",
          "text": [
            "3\n",
            "(60000, 28, 28)\n",
            "uint8\n"
          ]
        }
      ]
    },
    {
      "cell_type": "code",
      "metadata": {
        "colab": {
          "base_uri": "https://localhost:8080/",
          "height": 282
        },
        "id": "K-AxJOmSIXOJ",
        "outputId": "6c795ad8-e7cb-41ec-d277-45a97a7b2dc3"
      },
      "source": [
        "# 코드 2-6 다섯번째 이미지 출력하기\n",
        "\n",
        "digit = train_images[4]\n",
        "\n",
        "import matplotlib.pyplot as plt\n",
        "\n",
        "plt.imshow(digit, cmap=plt.cm.binary)\n",
        "plt.show()"
      ],
      "execution_count": 22,
      "outputs": [
        {
          "output_type": "execute_result",
          "data": {
            "text/plain": [
              "<matplotlib.image.AxesImage at 0x7f3dc9559290>"
            ]
          },
          "metadata": {},
          "execution_count": 22
        },
        {
          "output_type": "display_data",
          "data": {
            "image/png": "[encoded data removed]",
            "text/plain": [
              "<Figure size 432x288 with 1 Axes>"
            ]
          },
          "metadata": {
            "needs_background": "light"
          }
        }
      ]
    },
    {
      "cell_type": "markdown",
      "metadata": {
        "id": "j7ACVRxYIm9P"
      },
      "source": [
        "### 2.2.7 배치 데이터"
      ]
    },
    {
      "cell_type": "code",
      "metadata": {
        "id": "k3XBk58OI4eG"
      },
      "source": [
        ""
      ],
      "execution_count": null,
      "outputs": []
    }
  ]
}