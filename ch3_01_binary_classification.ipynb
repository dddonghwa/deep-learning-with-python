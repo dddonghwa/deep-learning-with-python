{
  "nbformat": 4,
  "nbformat_minor": 0,
  "metadata": {
    "colab": {
      "name": "ch3_01_binary_classification.ipynb",
      "provenance": [],
      "authorship_tag": "ABX9TyOsNRn5z4EghBcQvCX5C7hd",
      "include_colab_link": true
    },
    "kernelspec": {
      "name": "python3",
      "display_name": "Python 3"
    },
    "language_info": {
      "name": "python"
    }
  },
  "cells": [
    {
      "cell_type": "markdown",
      "metadata": {
        "id": "view-in-github",
        "colab_type": "text"
      },
      "source": [
        "<a href=\"https://colab.research.google.com/github/dddonghwa/deep-learning-with-python/blob/main/ch3_01_binary_classification.ipynb\" target=\"_parent\"><img src=\"https://colab.research.google.com/assets/colab-badge.svg\" alt=\"Open In Colab\"/></a>"
      ]
    },
    {
      "cell_type": "code",
      "source": [
        "import numpy as np\n",
        "import pandas as pd\n",
        "import matplotlib.pyplot as plt"
      ],
      "metadata": {
        "id": "6eCl5RAC4oLw"
      },
      "execution_count": 3,
      "outputs": []
    },
    {
      "cell_type": "code",
      "execution_count": 32,
      "metadata": {
        "colab": {
          "base_uri": "https://localhost:8080/"
        },
        "id": "oFHxoKFI1Lqz",
        "outputId": "a2a8f29a-f9b1-4d03-e52c-09f07c9769b7"
      },
      "outputs": [
        {
          "output_type": "stream",
          "name": "stdout",
          "text": [
            "(60000, 28, 28)\n",
            "(10000, 28, 28)\n"
          ]
        }
      ],
      "source": [
        "from keras.datasets import mnist\n",
        "\n",
        "(train_images, train_labels),(test_images, test_labels)=  mnist.load_data()\n",
        "print(train_images.shape)\n",
        "print(test_images.shape)"
      ]
    },
    {
      "cell_type": "markdown",
      "source": [
        "###cf. Keras 네트워크 시각화하기 [링크](https://dacon.io/codeshare/4199)\n",
        "\n",
        "```\n",
        "model.summary()\n",
        "plot_model(model, show_shapes=True, to_file='name.png')\n",
        "```"
      ],
      "metadata": {
        "id": "-MeTD2VQ2--M"
      }
    },
    {
      "cell_type": "code",
      "source": [
        "# 2-2. 신경망 구조\n",
        "from keras import models\n",
        "from keras import layers\n",
        "\n",
        "network = models.Sequential()\n",
        "network.add(layers.Dense(512, activation='relu', input_shape=(28*28,)))\n",
        "network.add(layers.Dense(10, activation='softmax'))\n",
        "\n",
        "from tensorflow.keras.utils import plot_model\n",
        "plot_model(network, show_shapes=True, to_file='model.png')"
      ],
      "metadata": {
        "colab": {
          "base_uri": "https://localhost:8080/",
          "height": 312
        },
        "id": "3o_DrB5X1TAv",
        "outputId": "ba7d8b86-9df7-4833-f8cc-b90e4e34e07e"
      },
      "execution_count": 33,
      "outputs": [
        {
          "output_type": "execute_result",
          "data": {
            "image/png": "[encoded data removed]",
            "text/plain": [
              "<IPython.core.display.Image object>"
            ]
          },
          "metadata": {},
          "execution_count": 33
        }
      ]
    },
    {
      "cell_type": "code",
      "source": [
        "# 2-3. 컴파일 단계\n",
        "\n",
        "network.compile(optimizer='rmsprop',\n",
        "                loss='categorical_crossentropy',\n",
        "                metrics=['accuracy'])"
      ],
      "metadata": {
        "id": "7X5kOyc120un"
      },
      "execution_count": 34,
      "outputs": []
    },
    {
      "cell_type": "code",
      "source": [
        "# 2-4. 이미지 데이터 준비하기\n",
        "train_images = train_images.reshape((60000, 28*28))\n",
        "train_images = train_images.astype('float32')/255.0\n",
        "\n",
        "test_images = test_images.reshape((10000, 28*28))\n",
        "test_images = test_images.astype('float32')/255.0"
      ],
      "metadata": {
        "id": "iH0YStdj4JOO"
      },
      "execution_count": 35,
      "outputs": []
    },
    {
      "cell_type": "code",
      "source": [
        "# 2-5 레이블 준비하기\n",
        "# from keras.utils import to_categorical\n",
        "from tensorflow.keras.utils import to_categorical\n",
        "\n",
        "train_labels = to_categorical(train_labels)\n",
        "test_labels = to_categorical(test_labels)"
      ],
      "metadata": {
        "id": "6a_mhNbJStyQ"
      },
      "execution_count": 36,
      "outputs": []
    },
    {
      "cell_type": "code",
      "source": [
        "network.fit(train_images, train_labels, epochs=5, batch_size=128)"
      ],
      "metadata": {
        "colab": {
          "base_uri": "https://localhost:8080/"
        },
        "id": "0MLUawssS_L2",
        "outputId": "bf471d7b-d08d-45dd-c107-3ac4d73c50cf"
      },
      "execution_count": 37,
      "outputs": [
        {
          "output_type": "stream",
          "name": "stdout",
          "text": [
            "Epoch 1/5\n",
            "469/469 [==============================] - 6s 11ms/step - loss: 0.2590 - accuracy: 0.9250\n",
            "Epoch 2/5\n",
            "469/469 [==============================] - 5s 11ms/step - loss: 0.1055 - accuracy: 0.9690\n",
            "Epoch 3/5\n",
            "469/469 [==============================] - 5s 11ms/step - loss: 0.0689 - accuracy: 0.9794\n",
            "Epoch 4/5\n",
            "469/469 [==============================] - 5s 11ms/step - loss: 0.0492 - accuracy: 0.9853\n",
            "Epoch 5/5\n",
            "469/469 [==============================] - 5s 11ms/step - loss: 0.0375 - accuracy: 0.9884\n"
          ]
        },
        {
          "output_type": "execute_result",
          "data": {
            "text/plain": [
              "<keras.callbacks.History at 0x7f930242bed0>"
            ]
          },
          "metadata": {},
          "execution_count": 37
        }
      ]
    },
    {
      "cell_type": "code",
      "source": [
        "test_loss, test_acc = network.evaluate(test_images, test_labels)\n",
        "print(\"test_acc :\",test_acc)"
      ],
      "metadata": {
        "colab": {
          "base_uri": "https://localhost:8080/"
        },
        "id": "0_yHWitITaSG",
        "outputId": "07ff109f-2eb2-4d91-cc0c-54cb16624f46"
      },
      "execution_count": 38,
      "outputs": [
        {
          "output_type": "stream",
          "name": "stdout",
          "text": [
            "313/313 [==============================] - 1s 3ms/step - loss: 0.0698 - accuracy: 0.9778\n",
            "test_acc : 0.9778000116348267\n"
          ]
        }
      ]
    },
    {
      "cell_type": "markdown",
      "source": [
        "### 2.3.2 브로드캐스팅"
      ],
      "metadata": {
        "id": "IQKCpwjWnr8G"
      }
    },
    {
      "cell_type": "code",
      "source": [
        "def naive_add_matrix_and_vector(x,y):\n",
        "  assert len(x.shape) == 2\n",
        "  assert len(y.shape) == 1\n",
        "  assert x.shape[1] == y.shape[0]\n",
        "\n",
        "  x = x.copy()\n",
        "  for i in range(x.shape[0]):\n",
        "    for j in range(x.shape[1]):\n",
        "      x[i,j] += y[j]\n",
        "\n",
        "  return x"
      ],
      "metadata": {
        "id": "WMaiGUAYuFY4"
      },
      "execution_count": 40,
      "outputs": []
    },
    {
      "cell_type": "code",
      "source": [
        "def naive_vector_dot(x,y):\n",
        "  assert len(x.shape) == 1\n",
        "  assert len(y.shape) == 1\n",
        "\n",
        "  z = 0\n",
        "  for i in range(x.shape[0]):\n",
        "    z += x[i]*y[i]\n",
        "\n",
        "  return z"
      ],
      "metadata": {
        "id": "5-ejCMXNu1tN"
      },
      "execution_count": 41,
      "outputs": []
    },
    {
      "cell_type": "code",
      "source": [
        "def naive_matrix_vector_dot(x,y):\n",
        "  assert len(x.shape) == 2\n",
        "  assert len(y.shape) == 1\n",
        "  assert x.shape[1] == y.shape[0]\n",
        "\n",
        "  z = np.zeors(x.shape[0])\n",
        "  for i in range(x.shape[0]):\n",
        "    for j in range(x.shape[1]):\n",
        "      z[i] += x[i,j]*y[j]\n",
        "\n",
        "  return z"
      ],
      "metadata": {
        "id": "YhkdA-YRvEBk"
      },
      "execution_count": 42,
      "outputs": []
    },
    {
      "cell_type": "code",
      "source": [
        "def naive_matrix_dot(x,y):\n",
        "  assert len(x.shape) == 2\n",
        "  assert len(y.shape) == 2\n",
        "  assert x.shape[1] == y.shape[0]\n",
        "\n",
        "  z = np.zeros((x.shape[0], y.shape[1]))\n",
        "  for i in range(x.shape[0]):\n",
        "    for j in range(y.shape[1]):\n",
        "      z[i,j] = naive_vector_dot(x[i,:], y[:,j])\n",
        "  return z"
      ],
      "metadata": {
        "id": "aWvXZn81v06Y"
      },
      "execution_count": 43,
      "outputs": []
    },
    {
      "cell_type": "markdown",
      "source": [
        "# 3장. 신경망 시작하기"
      ],
      "metadata": {
        "id": "fWBigjQ-wgFI"
      }
    },
    {
      "cell_type": "code",
      "source": [
        "from keras import layers, models\n",
        "from tensorflow.keras.utils import plot_model\n",
        "\n",
        "model = models.Sequential()\n",
        "model.add(layers.Dense(32, input_shape=(784,)))\n",
        "model.add(layers.Dense(10))\n",
        "plot_model(model, show_shapes=True)"
      ],
      "metadata": {
        "colab": {
          "base_uri": "https://localhost:8080/",
          "height": 312
        },
        "id": "ZOHchp29aAjE",
        "outputId": "e628fc75-9585-4875-8502-01ae9fabb671"
      },
      "execution_count": 5,
      "outputs": [
        {
          "output_type": "execute_result",
          "data": {
            "image/png": "[encoded data removed]",
            "text/plain": [
              "<IPython.core.display.Image object>"
            ]
          },
          "metadata": {},
          "execution_count": 5
        }
      ]
    },
    {
      "cell_type": "markdown",
      "source": [
        "#### 문제 종류에 따른 손실함수\n",
        "- 이진분류 : binary crossentropy\n",
        "- 다중분류 : categorical crossentropy\n",
        "- 회귀 : MSE(Mean Squared Error)\n",
        "- 시퀀스 : CTC(Connection Temporal Classification)\n",
        "\n",
        "## 3.4 영화 리뷰 분류 : 이진 분류 예제\n",
        "\n",
        "### 3.4.1 IMDB 데이터셋\n",
        "리뷰 5만개  \n",
        "훈련 데이터 2.5만개, 테스트 데이터 2.5만개  \n",
        "각각 긍정 50%, 부정 50%로 레이블  \n",
        "Keras.datasets에 내장  \n",
        "__각 리뷰 데이터는 단어 시퀀스가 인코딩된 것이기 때문에 단어 인텍스의 리스트 형태__"
      ],
      "metadata": {
        "id": "apswU_psag3d"
      }
    },
    {
      "cell_type": "code",
      "source": [
        "from keras.datasets import imdb\n",
        "\n",
        "(train_data, train_labels),(test_data, test_labels) = imdb.load_data(num_words=10000) # num_words = 가장 자주 나타나는 단어 갯수 설정\n",
        "print(train_data.shape)\n",
        "print(test_data.shape)\n"
      ],
      "metadata": {
        "colab": {
          "base_uri": "https://localhost:8080/"
        },
        "id": "BHSVabV4behS",
        "outputId": "b13b6813-fead-430c-968e-2e3c41c0659a"
      },
      "execution_count": 13,
      "outputs": [
        {
          "output_type": "stream",
          "name": "stdout",
          "text": [
            "Downloading data from https://storage.googleapis.com/tensorflow/tf-keras-datasets/imdb.npz\n",
            "17465344/17464789 [==============================] - 0s 0us/step\n",
            "17473536/17464789 [==============================] - 0s 0us/step\n",
            "(25000,)\n",
            "(25000,)\n"
          ]
        }
      ]
    },
    {
      "cell_type": "code",
      "source": [
        "print(train_data[0])\n",
        "print(len(train_data[0]), len(train_data[1]))\n",
        "print(train_labels[0])\n",
        "print(np.unique(train_labels, return_counts=True)) # 클래스 종류 및 갯수\n",
        "print(max([max(sequence) for sequence in train_data])) # 가장 자주 등장하는 단어 1만 개로 제한했기 때문에 단어 인덱스가 9999를 넘지 않음"
      ],
      "metadata": {
        "colab": {
          "base_uri": "https://localhost:8080/"
        },
        "id": "1VgFbeuxdOQU",
        "outputId": "497a13ca-d54a-4f4f-feda-9691962b5d63"
      },
      "execution_count": 16,
      "outputs": [
        {
          "output_type": "stream",
          "name": "stdout",
          "text": [
            "[1, 14, 22, 16, 43, 530, 973, 1622, 1385, 65, 458, 4468, 66, 3941, 4, 173, 36, 256, 5, 25, 100, 43, 838, 112, 50, 670, 2, 9, 35, 480, 284, 5, 150, 4, 172, 112, 167, 2, 336, 385, 39, 4, 172, 4536, 1111, 17, 546, 38, 13, 447, 4, 192, 50, 16, 6, 147, 2025, 19, 14, 22, 4, 1920, 4613, 469, 4, 22, 71, 87, 12, 16, 43, 530, 38, 76, 15, 13, 1247, 4, 22, 17, 515, 17, 12, 16, 626, 18, 2, 5, 62, 386, 12, 8, 316, 8, 106, 5, 4, 2223, 5244, 16, 480, 66, 3785, 33, 4, 130, 12, 16, 38, 619, 5, 25, 124, 51, 36, 135, 48, 25, 1415, 33, 6, 22, 12, 215, 28, 77, 52, 5, 14, 407, 16, 82, 2, 8, 4, 107, 117, 5952, 15, 256, 4, 2, 7, 3766, 5, 723, 36, 71, 43, 530, 476, 26, 400, 317, 46, 7, 4, 2, 1029, 13, 104, 88, 4, 381, 15, 297, 98, 32, 2071, 56, 26, 141, 6, 194, 7486, 18, 4, 226, 22, 21, 134, 476, 26, 480, 5, 144, 30, 5535, 18, 51, 36, 28, 224, 92, 25, 104, 4, 226, 65, 16, 38, 1334, 88, 12, 16, 283, 5, 16, 4472, 113, 103, 32, 15, 16, 5345, 19, 178, 32]\n",
            "218 189\n",
            "1\n",
            "(array([0, 1]), array([12500, 12500]))\n",
            "9999\n"
          ]
        }
      ]
    },
    {
      "cell_type": "markdown",
      "source": [
        "#### 단어 인덱싱 확인하기\n",
        "\n",
        "단어와 정수 인덱스를 매핑한 딕셔너리 \n",
        "`imdb.get_word_index()`"
      ],
      "metadata": {
        "id": "lfHafpczdcg9"
      }
    },
    {
      "cell_type": "code",
      "source": [
        "word_index = imdb.get_word_index()\n",
        "reverse_word_index = dict( \n",
        "    [(value, key) for (key,value) in word_index.items()]\n",
        ")\n",
        "decoded_review = ' '.join(\n",
        "    [reverse_word_index.get(i-3, \"?\") for i in train_data[0]] # 0,1,2는 '패딩', '문서 시작', '사전에 없음'을 위한 인덱스이므로 3을 뺌\n",
        ")\n",
        "print(decoded_review)"
      ],
      "metadata": {
        "colab": {
          "base_uri": "https://localhost:8080/"
        },
        "id": "uMNoq4xPe7kK",
        "outputId": "35d5183d-ff1c-4d04-f667-ccd34fdf95e2"
      },
      "execution_count": 17,
      "outputs": [
        {
          "output_type": "stream",
          "name": "stdout",
          "text": [
            "Downloading data from https://storage.googleapis.com/tensorflow/tf-keras-datasets/imdb_word_index.json\n",
            "1646592/1641221 [==============================] - 0s 0us/step\n",
            "1654784/1641221 [==============================] - 0s 0us/step\n",
            "? this film was just brilliant casting location scenery story direction everyone's really suited the part they played and you could just imagine being there robert ? is an amazing actor and now the same being director ? father came from the same scottish island as myself so i loved the fact there was a real connection with this film the witty remarks throughout the film were great it was just brilliant so much that i bought the film as soon as it was released for ? and would recommend it to everyone to watch and the fly fishing was amazing really cried at the end it was so sad and you know what they say if you cry at a film it must have been good and this definitely was also ? to the two little boy's that played the ? of norman and paul they were just brilliant children are often left out of the ? list i think because the stars that play them all grown up are such a big profile for the whole film but these children are amazing and should be praised for what they have done don't you think the whole story was so lovely because it was true and was someone's life after all that was shared with us all\n"
          ]
        }
      ]
    },
    {
      "cell_type": "code",
      "source": [
        "for i in range(5):\n",
        "  print(len(train_data[i]))\n",
        "\n",
        "# 샘플마다 인덱싱 리스트의 길이가 다름"
      ],
      "metadata": {
        "colab": {
          "base_uri": "https://localhost:8080/"
        },
        "id": "2K4XzzxphUz5",
        "outputId": "821f738f-139d-4623-9be9-675dd99b3f8f"
      },
      "execution_count": 18,
      "outputs": [
        {
          "output_type": "stream",
          "name": "stdout",
          "text": [
            "218\n",
            "189\n",
            "141\n",
            "550\n",
            "147\n"
          ]
        }
      ]
    },
    {
      "cell_type": "markdown",
      "source": [
        "### 3.4.2 데이터 준비\n",
        "리스트 → 텐서 바꾸는 두 가지 방법  \n",
        "1) 같은 길이가 되도록 리스트에 패딩을 추가하여 (samples, sequence_length) 크기의 정수 텐서로 변환  \n",
        "2) 리스트를 원핫인코딩으로 변환, 각 인덱스가 열 번호가 되어서 (samples, 10000) 크기의 행렬로 변환  \n"
      ],
      "metadata": {
        "id": "DW2EHTOKfBAi"
      }
    },
    {
      "cell_type": "code",
      "source": [
        "# 코드 3-2. 방법 2)\n",
        "\n",
        "import numpy as np\n",
        "def vectorize_sequence(sequences, dimension=10000):\n",
        "  results = np.zeros((len(sequences), dimension))\n",
        "  for idx, sequence in enumerate(sequences):\n",
        "      results[idx, sequence] = 1.\n",
        "  return results\n",
        "\n",
        "x_train = vectorize_sequence(train_data)\n",
        "x_test = vectorize_sequence(test_data)\n",
        "\n",
        "print(x_train.shape, x_test.shape)\n"
      ],
      "metadata": {
        "colab": {
          "base_uri": "https://localhost:8080/"
        },
        "id": "_0HyN73yg2HE",
        "outputId": "29d31335-ef7b-4cf1-8ade-b71bd4193202"
      },
      "execution_count": 19,
      "outputs": [
        {
          "output_type": "stream",
          "name": "stdout",
          "text": [
            "(25000, 10000) (25000, 10000)\n"
          ]
        }
      ]
    },
    {
      "cell_type": "code",
      "source": [
        "print(x_train[0])"
      ],
      "metadata": {
        "colab": {
          "base_uri": "https://localhost:8080/"
        },
        "id": "hhZjYAYVg2UC",
        "outputId": "d3d0afed-5bca-411b-bbd6-fd74a90f09f8"
      },
      "execution_count": 20,
      "outputs": [
        {
          "output_type": "stream",
          "name": "stdout",
          "text": [
            "[0. 1. 1. ... 0. 0. 0.]\n"
          ]
        }
      ]
    },
    {
      "cell_type": "code",
      "source": [
        "train_labels"
      ],
      "metadata": {
        "colab": {
          "base_uri": "https://localhost:8080/"
        },
        "id": "GNIOV2xkj5D1",
        "outputId": "156c4337-298e-4148-bb49-57e7066147b2"
      },
      "execution_count": 21,
      "outputs": [
        {
          "output_type": "execute_result",
          "data": {
            "text/plain": [
              "array([1, 0, 0, ..., 0, 1, 0])"
            ]
          },
          "metadata": {},
          "execution_count": 21
        }
      ]
    },
    {
      "cell_type": "markdown",
      "source": [
        "레이블도 벡터로 바꿔준다  \n",
        "#### cf. `np.asarray()`가 `np.array()`와 다른점\n",
        "이미 ndarray의 데이터 형태 (data type)이 설정 되어 있고 그 데이터 형태가 다를 경우에만 복사(copy) 가 된다.  \n",
        "데이터 형태가 같을 경우에 복사하지 않고 그대로 사용한다.\n",
        "\n",
        "\n",
        "```\n",
        "# 이미 존재하는 배열에 대해서는 복사하지 않는다.(동일 주소 사용)\n",
        ">>> a = np.array([1,2,3])\n",
        ">>> np.asarray(a) is a\n",
        "True\n",
        "\n",
        "# 만약 dtype이 설정 되어 있다면, 데이터 형태가 다를 경우에만 복사한다.\n",
        ">>> b = np.array([1,2,3],dtype = np.float32)\n",
        "\n",
        "# np.array는 데이터 형태 일치 여부에 상관없이 복사함. (다른 주소 할당 O)\n",
        ">>> np.array(b, dtype = np.float32) is b  \n",
        "False\n",
        "\n",
        "# np.asarray\n",
        " # 데이터 형태가 같을 때는 복사하지 않는다. (다른 주소 할당X, 그대로 사용)\n",
        ">>> np.asarray(b, dtype = np.float32) is b  \n",
        "True\n",
        " # 데이터 형태가 다를때 복사한다. (다른 주소 할당 O)\n",
        ">>> np.asarray(b, dtype = np.float64) is b  \n",
        "False\n",
        "```"
      ],
      "metadata": {
        "id": "P0c0pLxClPH1"
      }
    },
    {
      "cell_type": "code",
      "source": [
        "# 레이블 인코딩\n",
        "y_train = np.asarray(train_labels).astype('float32')\n",
        "y_test = np.asarray(test_labels).astype('float32')\n",
        "print(y_train)"
      ],
      "metadata": {
        "colab": {
          "base_uri": "https://localhost:8080/"
        },
        "id": "mdOb9WjifsK4",
        "outputId": "52c84bdd-08a2-460d-c0de-a58e8da0f13d"
      },
      "execution_count": 22,
      "outputs": [
        {
          "output_type": "stream",
          "name": "stdout",
          "text": [
            "[1. 0. 0. ... 0. 1. 0.]\n"
          ]
        }
      ]
    },
    {
      "cell_type": "code",
      "source": [
        "# 코드 3-3 모델 정의하기\n",
        "\n",
        "from keras import models, layers\n",
        "from tensorflow.keras.utils import plot_model\n",
        "\n",
        "model = models.Sequential()\n",
        "model.add(layers.Dense(16, activation='relu', input_shape=(10000,)))\n",
        "model.add(layers.Dense(16, activation='relu'))\n",
        "model.add(layers.Dense(1, activation='sigmoid'))\n",
        "\n",
        "plot_model(model, show_shapes=True)"
      ],
      "metadata": {
        "colab": {
          "base_uri": "https://localhost:8080/",
          "height": 422
        },
        "id": "IcJSm8zXkLin",
        "outputId": "2b5eb739-80c5-43da-b892-b7ad37490e6a"
      },
      "execution_count": 65,
      "outputs": [
        {
          "output_type": "execute_result",
          "data": {
            "image/png": "[encoded data removed]",
            "text/plain": [
              "<IPython.core.display.Image object>"
            ]
          },
          "metadata": {},
          "execution_count": 65
        }
      ]
    },
    {
      "cell_type": "code",
      "source": [
        "# 코드 3-4 모델 컴파일하기\n",
        "model.compile(optimizer='rmsprop',\n",
        "              loss='binary_crossentropy',\n",
        "              metrics=['accuracy'])"
      ],
      "metadata": {
        "id": "LAdWlLJDmfkU"
      },
      "execution_count": 24,
      "outputs": []
    },
    {
      "cell_type": "markdown",
      "source": [
        "옵티마이저 매개변수 변경(코드 3-5) 또는 손실함수 사용자화 (코드 3-6)"
      ],
      "metadata": {
        "id": "v2KfF9pUpT-3"
      }
    },
    {
      "cell_type": "code",
      "source": [
        "# 코드 3-5 옵티마이저 설정하기\n",
        "from tensorflow.keras import optimizers\n",
        "model.compile(optimizer = optimizers.RMSprop(learning_rate=0.001),\n",
        "              loss='binary_crossentropy',\n",
        "              metrics=['accuracy'])"
      ],
      "metadata": {
        "id": "0hAcbmgppSAU"
      },
      "execution_count": 25,
      "outputs": []
    },
    {
      "cell_type": "code",
      "source": [
        "# 코드 3-6 손실과 측정을 함수 객체로 지정하기\n",
        "from keras import losses, metrics\n",
        "\n",
        "model.compile(optimizer=optimizers.RMSprop(learning_rate=0.001),\n",
        "              loss=losses.binary_crossentropy,\n",
        "              metrics=[metrics.binary_accuracy])"
      ],
      "metadata": {
        "id": "or8AXVxUpudQ"
      },
      "execution_count": 26,
      "outputs": []
    },
    {
      "cell_type": "markdown",
      "source": [
        "### 3.4.4 훈련 검증\n",
        "훈련과 검증 데이터셋 분리\n"
      ],
      "metadata": {
        "id": "nTBVfwx2qfhD"
      }
    },
    {
      "cell_type": "code",
      "source": [
        "# 코드 3-7 검증 세트 준비하기\n",
        "x_val = x_train[:10000,]\n",
        "partial_x_train = x_train[10000:,]\n",
        "y_val = y_train[:10000,]\n",
        "partial_y_train = y_train[10000:,]"
      ],
      "metadata": {
        "id": "g02RtYGRqY1P"
      },
      "execution_count": 28,
      "outputs": []
    },
    {
      "cell_type": "markdown",
      "source": [
        "모델 512 샘플씩 미니배치 생성, 20번 epoch동안 훈련  \n",
        "1만개의 검증 데이터셋에 대해서 손실과 정확도 측정 → 매개변수 `validation_data`에 전달 "
      ],
      "metadata": {
        "id": "OhNvQAGHrEPg"
      }
    },
    {
      "cell_type": "code",
      "source": [
        "# 코드 3-8 모델 훈련하기\n",
        "from tensorflow.keras import optimizers\n",
        "from keras import losses, metrics\n",
        "\n",
        "# model.compile(optimizer = optimizers.RMSprop(learning_rate=0.001),\n",
        "#               loss=losses.binary_crossentropy,\n",
        "#               metrics=[metrics.binary_accuracy])\n",
        "\n",
        "model.compile(optimizer='rmsprop',\n",
        "              loss='binary_crossentropy',\n",
        "              metrics=['acc'])\n",
        "\n",
        "history = model.fit(partial_x_train, partial_y_train,\n",
        "          epochs=20,\n",
        "          batch_size=512,\n",
        "          validation_data=(x_val, y_val))"
      ],
      "metadata": {
        "colab": {
          "base_uri": "https://localhost:8080/"
        },
        "id": "Eg2cqveXqvvi",
        "outputId": "ecdad2cf-7e91-4bbc-a91f-c7f8c22da4a5"
      },
      "execution_count": 66,
      "outputs": [
        {
          "output_type": "stream",
          "name": "stdout",
          "text": [
            "Epoch 1/20\n",
            "30/30 [==============================] - 2s 50ms/step - loss: 0.5059 - acc: 0.7877 - val_loss: 0.3767 - val_acc: 0.8671\n",
            "Epoch 2/20\n",
            "30/30 [==============================] - 1s 39ms/step - loss: 0.2963 - acc: 0.9037 - val_loss: 0.2949 - val_acc: 0.8884\n",
            "Epoch 3/20\n",
            "30/30 [==============================] - 1s 38ms/step - loss: 0.2156 - acc: 0.9295 - val_loss: 0.2749 - val_acc: 0.8904\n",
            "Epoch 4/20\n",
            "30/30 [==============================] - 1s 39ms/step - loss: 0.1701 - acc: 0.9440 - val_loss: 0.2733 - val_acc: 0.8891\n",
            "Epoch 5/20\n",
            "30/30 [==============================] - 1s 38ms/step - loss: 0.1365 - acc: 0.9587 - val_loss: 0.3073 - val_acc: 0.8803\n",
            "Epoch 6/20\n",
            "30/30 [==============================] - 1s 39ms/step - loss: 0.1165 - acc: 0.9636 - val_loss: 0.2939 - val_acc: 0.8858\n",
            "Epoch 7/20\n",
            "30/30 [==============================] - 1s 39ms/step - loss: 0.0936 - acc: 0.9727 - val_loss: 0.3203 - val_acc: 0.8818\n",
            "Epoch 8/20\n",
            "30/30 [==============================] - 1s 39ms/step - loss: 0.0776 - acc: 0.9776 - val_loss: 0.3401 - val_acc: 0.8816\n",
            "Epoch 9/20\n",
            "30/30 [==============================] - 1s 38ms/step - loss: 0.0638 - acc: 0.9820 - val_loss: 0.3806 - val_acc: 0.8701\n",
            "Epoch 10/20\n",
            "30/30 [==============================] - 1s 40ms/step - loss: 0.0532 - acc: 0.9863 - val_loss: 0.3766 - val_acc: 0.8782\n",
            "Epoch 11/20\n",
            "30/30 [==============================] - 1s 38ms/step - loss: 0.0424 - acc: 0.9892 - val_loss: 0.4209 - val_acc: 0.8763\n",
            "Epoch 12/20\n",
            "30/30 [==============================] - 1s 38ms/step - loss: 0.0349 - acc: 0.9928 - val_loss: 0.4378 - val_acc: 0.8760\n",
            "Epoch 13/20\n",
            "30/30 [==============================] - 1s 39ms/step - loss: 0.0256 - acc: 0.9955 - val_loss: 0.4711 - val_acc: 0.8707\n",
            "Epoch 14/20\n",
            "30/30 [==============================] - 1s 38ms/step - loss: 0.0185 - acc: 0.9980 - val_loss: 0.5026 - val_acc: 0.8739\n",
            "Epoch 15/20\n",
            "30/30 [==============================] - 1s 38ms/step - loss: 0.0180 - acc: 0.9968 - val_loss: 0.5354 - val_acc: 0.8697\n",
            "Epoch 16/20\n",
            "30/30 [==============================] - 1s 39ms/step - loss: 0.0133 - acc: 0.9983 - val_loss: 0.5666 - val_acc: 0.8698\n",
            "Epoch 17/20\n",
            "30/30 [==============================] - 1s 38ms/step - loss: 0.0071 - acc: 0.9998 - val_loss: 0.6181 - val_acc: 0.8698\n",
            "Epoch 18/20\n",
            "30/30 [==============================] - 1s 38ms/step - loss: 0.0107 - acc: 0.9978 - val_loss: 0.6322 - val_acc: 0.8705\n",
            "Epoch 19/20\n",
            "30/30 [==============================] - 1s 39ms/step - loss: 0.0040 - acc: 0.9999 - val_loss: 0.6901 - val_acc: 0.8623\n",
            "Epoch 20/20\n",
            "30/30 [==============================] - 1s 38ms/step - loss: 0.0067 - acc: 0.9985 - val_loss: 0.7013 - val_acc: 0.8695\n"
          ]
        }
      ]
    },
    {
      "cell_type": "markdown",
      "source": [
        "`history` 객체 : 훈련하는 동안 발생한 모든 정보를 담고 있는 딕셔너리"
      ],
      "metadata": {
        "id": "W1ET18Xvr8Jw"
      }
    },
    {
      "cell_type": "code",
      "source": [
        "history_dict = history.history\n",
        "history_dict.keys()"
      ],
      "metadata": {
        "colab": {
          "base_uri": "https://localhost:8080/"
        },
        "id": "8Gux9vyIszbp",
        "outputId": "90301b03-4e0a-4ecb-ed5c-518a3fd456e1"
      },
      "execution_count": 67,
      "outputs": [
        {
          "output_type": "execute_result",
          "data": {
            "text/plain": [
              "dict_keys(['loss', 'acc', 'val_loss', 'val_acc'])"
            ]
          },
          "metadata": {},
          "execution_count": 67
        }
      ]
    },
    {
      "cell_type": "code",
      "source": [
        "import matplotlib.pyplot as plt\n",
        "\n",
        "train_loss = history_dict['loss']\n",
        "train_acc = history_dict['acc']\n",
        "val_loss = history_dict['val_loss']\n",
        "val_acc = history_dict['val_acc']\n",
        "\n",
        "x = np.arange(1,len(train_loss)+1).astype('int8')\n",
        "\n",
        "plt.plot(x, train_loss, 'bo', label='train')\n",
        "plt.plot(x, val_loss, label='val')\n",
        "plt.title('Loss')\n",
        "plt.legend()\n",
        "plt.show()\n",
        "\n",
        "plt.plot(x, train_acc, 'bo', label='train')\n",
        "plt.plot(x, val_acc, label='val')\n",
        "plt.title('Accuracy')\n",
        "plt.legend()\n",
        "plt.show()"
      ],
      "metadata": {
        "colab": {
          "base_uri": "https://localhost:8080/",
          "height": 545
        },
        "id": "8u56HbN-s3uP",
        "outputId": "26204d94-7e14-4de3-82ab-6674c8a9da4d"
      },
      "execution_count": 70,
      "outputs": [
        {
          "output_type": "display_data",
          "data": {
            "image/png": "[encoded data removed]",
            "text/plain": [
              "<Figure size 432x288 with 1 Axes>"
            ]
          },
          "metadata": {
            "needs_background": "light"
          }
        },
        {
          "output_type": "display_data",
          "data": {
            "image/png": "[encoded data removed]",
            "text/plain": [
              "<Figure size 432x288 with 1 Axes>"
            ]
          },
          "metadata": {
            "needs_background": "light"
          }
        }
      ]
    },
    {
      "cell_type": "code",
      "source": [
        "# 코드 3-11 모델을 처음부터 다시 훈련하기\n",
        "model = models.Sequential()\n",
        "model.add(layers.Dense(16, activation='relu', input_shape=(10000,)))\n",
        "model.add(layers.Dense(16, activation='relu'))\n",
        "model.add(layers.Dense(1, activation='sigmoid'))\n",
        "\n",
        "model.compile(optimizer='rmsprop',\n",
        "              loss='binary_crossentropy',\n",
        "              metrics=['accuracy'])\n",
        "\n",
        "model.fit(partial_x_train, partial_y_train,\n",
        "          epochs=4, batch_size=512, \n",
        "          validation_data=(x_val, y_val))\n",
        "\n",
        "results = model.evaluate(x_test, y_test)"
      ],
      "metadata": {
        "colab": {
          "base_uri": "https://localhost:8080/"
        },
        "id": "ywsa4L6ttg25",
        "outputId": "fa80ff2a-b93a-465e-977c-eb225de8277d"
      },
      "execution_count": 81,
      "outputs": [
        {
          "output_type": "stream",
          "name": "stdout",
          "text": [
            "Epoch 1/4\n",
            "30/30 [==============================] - 2s 50ms/step - loss: 0.5425 - accuracy: 0.7822 - val_loss: 0.4443 - val_accuracy: 0.8240\n",
            "Epoch 2/4\n",
            "30/30 [==============================] - 1s 39ms/step - loss: 0.3315 - accuracy: 0.8995 - val_loss: 0.3447 - val_accuracy: 0.8597\n",
            "Epoch 3/4\n",
            "30/30 [==============================] - 1s 40ms/step - loss: 0.2387 - accuracy: 0.9223 - val_loss: 0.3101 - val_accuracy: 0.8758\n",
            "Epoch 4/4\n",
            "30/30 [==============================] - 1s 39ms/step - loss: 0.1868 - accuracy: 0.9401 - val_loss: 0.2800 - val_accuracy: 0.8877\n",
            "782/782 [==============================] - 2s 3ms/step - loss: 0.2954 - accuracy: 0.8812\n"
          ]
        }
      ]
    },
    {
      "cell_type": "code",
      "source": [
        "print(results) # test_loss, test_acc"
      ],
      "metadata": {
        "colab": {
          "base_uri": "https://localhost:8080/"
        },
        "id": "KBcz1Kebxi7h",
        "outputId": "40ba0923-a9fb-4d64-f9e0-319beda10d65"
      },
      "execution_count": 74,
      "outputs": [
        {
          "output_type": "stream",
          "name": "stdout",
          "text": [
            "[0.29198530316352844, 0.8831999897956848]\n"
          ]
        }
      ]
    },
    {
      "cell_type": "code",
      "source": [
        "def history_plot(history_dict):\n",
        "\n",
        "  keys = list(history_dict.keys())\n",
        "  train_loss = history_dict[keys[0]]\n",
        "  train_acc = history_dict[keys[1]]\n",
        "  val_loss = history_dict[keys[2]]\n",
        "  val_acc = history_dict[keys[3]]\n",
        "\n",
        "  x = np.arange(1,len(train_loss)+1).astype('int8')\n",
        "\n",
        "  plt.plot(x, train_loss, 'bo', label='train')\n",
        "  plt.plot(x, val_loss, label='val')\n",
        "  plt.title('Loss')\n",
        "  plt.legend()\n",
        "  plt.show()\n",
        "\n",
        "  plt.plot(x, train_acc, 'bo', label='train')\n",
        "  plt.plot(x, val_acc, label='val')\n",
        "  plt.title('Accuracy')\n",
        "  plt.legend()\n",
        "  plt.show()\n"
      ],
      "metadata": {
        "id": "RNKQcMtY6oBJ"
      },
      "execution_count": 89,
      "outputs": []
    },
    {
      "cell_type": "markdown",
      "source": [
        "### 3.4.6 추가 실험\n",
        "\n",
        "#### 1) 1개 은닉층 사용해보기\n",
        "\n",
        "__기록__\n",
        "- 은닉층 2개 & epoch=4 ) loss: 0.1868 - accuracy: 0.9401 - val_loss: 0.2800 - val_accuracy: 0.8877 \n",
        "- 은닉층 1개 & epoch=4 ) loss: 0.2003 - accuracy: 0.9391 - val_loss: 0.2807 - val_accuracy: 0.8893\n",
        "- 은닉층 1개 & epoch=6 ) loss: 0.1573 - accuracy: 0.9529 - val_loss: 0.2789 - val_accuracy: 0.8878\n",
        "\n",
        "__결과__  \n",
        "동일한 epoch에서 은닉층을 1개로 줄이면 훈련과 검증 데이터셋에서 모두 성능이 약간 떨어지지만, epoch을 6으로 증가시키면 기존 은닉층 2개 & epoch=4만큼 혹은 더 높게 성능이 나온다. "
      ],
      "metadata": {
        "id": "ECPjCEAIxwx3"
      }
    },
    {
      "cell_type": "code",
      "source": [
        "# 1) 은닉층 1개\n",
        "from keras import models, layers\n",
        "\n",
        "model = models.Sequential()\n",
        "model.add(layers.Dense(16, activation='relu', input_shape=(10000,)))\n",
        "model.add(layers.Dense(1, activation='sigmoid'))\n",
        "\n",
        "model.compile(optimizer='rmsprop',\n",
        "              loss='binary_crossentropy',\n",
        "              metrics=['accuracy'])\n",
        "\n",
        "history = model.fit(partial_x_train, partial_y_train,\n",
        "          epochs=6,\n",
        "          batch_size=512,\n",
        "          validation_data=(x_val, y_val))\n",
        "\n",
        "history_plot(history.history)\n",
        "print(model.evaluate(x_test, y_test))"
      ],
      "metadata": {
        "colab": {
          "base_uri": "https://localhost:8080/",
          "height": 808
        },
        "id": "BAqUHLrKyO_F",
        "outputId": "7aa23633-a1a7-4b70-e7e7-3eda327fe893"
      },
      "execution_count": 98,
      "outputs": [
        {
          "output_type": "stream",
          "name": "stdout",
          "text": [
            "Epoch 1/6\n",
            "30/30 [==============================] - 2s 60ms/step - loss: 0.5114 - accuracy: 0.8034 - val_loss: 0.4103 - val_accuracy: 0.8649\n",
            "Epoch 2/6\n",
            "30/30 [==============================] - 1s 45ms/step - loss: 0.3342 - accuracy: 0.9011 - val_loss: 0.3304 - val_accuracy: 0.8824\n",
            "Epoch 3/6\n",
            "30/30 [==============================] - 1s 44ms/step - loss: 0.2591 - accuracy: 0.9211 - val_loss: 0.2963 - val_accuracy: 0.8882\n",
            "Epoch 4/6\n",
            "30/30 [==============================] - 1s 44ms/step - loss: 0.2135 - accuracy: 0.9338 - val_loss: 0.2823 - val_accuracy: 0.8904\n",
            "Epoch 5/6\n",
            "30/30 [==============================] - 1s 44ms/step - loss: 0.1816 - accuracy: 0.9456 - val_loss: 0.2797 - val_accuracy: 0.8877\n",
            "Epoch 6/6\n",
            "30/30 [==============================] - 1s 43ms/step - loss: 0.1573 - accuracy: 0.9529 - val_loss: 0.2789 - val_accuracy: 0.8878\n"
          ]
        },
        {
          "output_type": "display_data",
          "data": {
            "image/png": "[encoded data removed]",
            "text/plain": [
              "<Figure size 432x288 with 1 Axes>"
            ]
          },
          "metadata": {
            "needs_background": "light"
          }
        },
        {
          "output_type": "display_data",
          "data": {
            "image/png": "[encoded data removed]",
            "text/plain": [
              "<Figure size 432x288 with 1 Axes>"
            ]
          },
          "metadata": {
            "needs_background": "light"
          }
        },
        {
          "output_type": "stream",
          "name": "stdout",
          "text": [
            "782/782 [==============================] - 2s 2ms/step - loss: 0.2991 - accuracy: 0.8776\n",
            "[0.29905763268470764, 0.877560019493103]\n"
          ]
        }
      ]
    },
    {
      "cell_type": "markdown",
      "source": [
        "#### 2) 3개 은닉층 사용해보기  \n",
        "__기록__\n",
        "- 은닉층 1개 & epoch=6 ) loss: 0.1573 - accuracy: 0.9529 - val_loss: 0.2789 - val_accuracy: 0.8878\n",
        "- 은닉층 3개 & epoch=6 ) loss: 0.1174 - accuracy: 0.9657 - val_loss: 0.2996 - val_accuracy: 0.8847\n",
        "\n",
        "__결과__   \n",
        "은닉층 1개에 비해서 과적합이 일어남\n"
      ],
      "metadata": {
        "id": "ytm2Av_2-atN"
      }
    },
    {
      "cell_type": "code",
      "source": [
        "from keras import models, layers\n",
        "\n",
        "model = models.Sequential()\n",
        "model.add(layers.Dense(16, activation='relu', input_shape=(10000,)))\n",
        "model.add(layers.Dense(16, activation='relu'))\n",
        "model.add(layers.Dense(16, activation='relu'))\n",
        "model.add(layers.Dense(1, activation='sigmoid'))\n",
        "\n",
        "model.compile(optimizer='rmsprop',\n",
        "              loss='binary_crossentropy',\n",
        "              metrics=['accuracy'])\n",
        "\n",
        "history = model.fit(partial_x_train, partial_y_train,\n",
        "          epochs=6,\n",
        "          batch_size=512,\n",
        "          validation_data=(x_val, y_val))\n",
        "\n",
        "history_plot(history.history)\n",
        "print(model.evaluate(x_test, y_test))"
      ],
      "metadata": {
        "colab": {
          "base_uri": "https://localhost:8080/",
          "height": 947
        },
        "id": "XQ3sfFJ88PO7",
        "outputId": "2a0c17c3-6801-4b3f-bf9c-3226ef9ff86a"
      },
      "execution_count": 99,
      "outputs": [
        {
          "output_type": "stream",
          "name": "stdout",
          "text": [
            "Epoch 1/10\n",
            "30/30 [==============================] - 2s 55ms/step - loss: 0.5609 - accuracy: 0.7522 - val_loss: 0.4328 - val_accuracy: 0.8698\n",
            "Epoch 2/10\n",
            "30/30 [==============================] - 1s 42ms/step - loss: 0.3416 - accuracy: 0.8980 - val_loss: 0.3601 - val_accuracy: 0.8558\n",
            "Epoch 3/10\n",
            "30/30 [==============================] - 1s 41ms/step - loss: 0.2398 - accuracy: 0.9256 - val_loss: 0.3020 - val_accuracy: 0.8799\n",
            "Epoch 4/10\n",
            "30/30 [==============================] - 1s 41ms/step - loss: 0.1817 - accuracy: 0.9438 - val_loss: 0.3159 - val_accuracy: 0.8765\n",
            "Epoch 5/10\n",
            "30/30 [==============================] - 1s 42ms/step - loss: 0.1447 - accuracy: 0.9560 - val_loss: 0.3503 - val_accuracy: 0.8630\n",
            "Epoch 6/10\n",
            "30/30 [==============================] - 1s 43ms/step - loss: 0.1174 - accuracy: 0.9657 - val_loss: 0.2996 - val_accuracy: 0.8847\n",
            "Epoch 7/10\n",
            "30/30 [==============================] - 1s 42ms/step - loss: 0.0963 - accuracy: 0.9733 - val_loss: 0.4111 - val_accuracy: 0.8613\n",
            "Epoch 8/10\n",
            "30/30 [==============================] - 1s 43ms/step - loss: 0.0780 - accuracy: 0.9797 - val_loss: 0.3444 - val_accuracy: 0.8790\n",
            "Epoch 9/10\n",
            "30/30 [==============================] - 1s 42ms/step - loss: 0.0652 - accuracy: 0.9825 - val_loss: 0.3971 - val_accuracy: 0.8758\n",
            "Epoch 10/10\n",
            "30/30 [==============================] - 1s 41ms/step - loss: 0.0498 - accuracy: 0.9884 - val_loss: 0.3974 - val_accuracy: 0.8782\n"
          ]
        },
        {
          "output_type": "display_data",
          "data": {
            "image/png": "[encoded data removed]",
            "text/plain": [
              "<Figure size 432x288 with 1 Axes>"
            ]
          },
          "metadata": {
            "needs_background": "light"
          }
        },
        {
          "output_type": "display_data",
          "data": {
            "image/png": "[encoded data removed]",
            "text/plain": [
              "<Figure size 432x288 with 1 Axes>"
            ]
          },
          "metadata": {
            "needs_background": "light"
          }
        },
        {
          "output_type": "stream",
          "name": "stdout",
          "text": [
            "782/782 [==============================] - 2s 3ms/step - loss: 0.4399 - accuracy: 0.8642\n",
            "[0.4398975670337677, 0.8641999959945679]\n"
          ]
        }
      ]
    },
    {
      "cell_type": "markdown",
      "source": [
        "3) 층의 은닉 유닛 추가/제거  - 32개의 유닛  \n",
        "__기록__  \n",
        "- 은닉 유닛 16개 & epoch=6 ) loss: 0.1573 - accuracy: 0.9529 - val_loss: 0.2789 - val_accuracy: 0.8878\n",
        "- 은닉 유닛 32개 & epoch=6 ) loss: 0.1335 - accuracy: 0.9732 - val_loss: 1.0938 - val_accuracy: 0.8410\n",
        "- 은닉 유닛 64개 & epoch=6 ) loss: 0.1091 - accuracy: 0.9802 - val_loss: 0.6997 - val_accuracy: 0.8698\n",
        "\n",
        "__결과__  \n",
        "은닉 유닛 16개가 가장 좋음"
      ],
      "metadata": {
        "id": "yopz-pUbCttQ"
      }
    },
    {
      "cell_type": "code",
      "source": [
        "from keras import layers, models\n",
        "\n",
        "model = models.Sequential()\n",
        "model.add(layers.Dense(64, activation='relu', input_shape=(10000,))) # 32/64\n",
        "model.add(layers.Dense(1))\n",
        "\n",
        "model.compile(optimizer='rmsprop',\n",
        "              loss='binary_crossentropy',\n",
        "              metrics=['accuracy'])\n",
        "\n",
        "history = model.fit(partial_x_train, partial_y_train,\n",
        "          epochs=10, \n",
        "          batch_size=512,\n",
        "          validation_data=(x_val, y_val))\n",
        "\n",
        "print(model.evaluate(x_test, y_test))\n",
        "history_plot(history.history)"
      ],
      "metadata": {
        "colab": {
          "base_uri": "https://localhost:8080/",
          "height": 947
        },
        "id": "l0lN_6Nc-pbG",
        "outputId": "5ff6ae64-b33b-4b32-f6dd-2b4e184cf22d"
      },
      "execution_count": 103,
      "outputs": [
        {
          "output_type": "stream",
          "name": "stdout",
          "text": [
            "Epoch 1/10\n",
            "30/30 [==============================] - 3s 71ms/step - loss: 1.0439 - accuracy: 0.7033 - val_loss: 0.4078 - val_accuracy: 0.8363\n",
            "Epoch 2/10\n",
            "30/30 [==============================] - 2s 60ms/step - loss: 0.3310 - accuracy: 0.8897 - val_loss: 0.4072 - val_accuracy: 0.8709\n",
            "Epoch 3/10\n",
            "30/30 [==============================] - 2s 61ms/step - loss: 0.2332 - accuracy: 0.9352 - val_loss: 0.4753 - val_accuracy: 0.8690\n",
            "Epoch 4/10\n",
            "30/30 [==============================] - 2s 59ms/step - loss: 0.1722 - accuracy: 0.9578 - val_loss: 0.5543 - val_accuracy: 0.8745\n",
            "Epoch 5/10\n",
            "30/30 [==============================] - 2s 62ms/step - loss: 0.1518 - accuracy: 0.9701 - val_loss: 1.4851 - val_accuracy: 0.7700\n",
            "Epoch 6/10\n",
            "30/30 [==============================] - 2s 60ms/step - loss: 0.1091 - accuracy: 0.9802 - val_loss: 0.6997 - val_accuracy: 0.8698\n",
            "Epoch 7/10\n",
            "30/30 [==============================] - 2s 59ms/step - loss: 0.1028 - accuracy: 0.9840 - val_loss: 0.6644 - val_accuracy: 0.8800\n",
            "Epoch 8/10\n",
            "30/30 [==============================] - 2s 59ms/step - loss: 0.0836 - accuracy: 0.9872 - val_loss: 0.6877 - val_accuracy: 0.8755\n",
            "Epoch 9/10\n",
            "30/30 [==============================] - 2s 60ms/step - loss: 0.0583 - accuracy: 0.9961 - val_loss: 0.7923 - val_accuracy: 0.8781\n",
            "Epoch 10/10\n",
            "30/30 [==============================] - 2s 59ms/step - loss: 0.0858 - accuracy: 0.9881 - val_loss: 0.7781 - val_accuracy: 0.8774\n",
            "782/782 [==============================] - 3s 3ms/step - loss: 0.8426 - accuracy: 0.8656\n",
            "[0.8426283597946167, 0.8656399846076965]\n"
          ]
        },
        {
          "output_type": "display_data",
          "data": {
            "image/png": "[encoded data removed]",
            "text/plain": [
              "<Figure size 432x288 with 1 Axes>"
            ]
          },
          "metadata": {
            "needs_background": "light"
          }
        },
        {
          "output_type": "display_data",
          "data": {
            "image/png": "[encoded data removed]",
            "text/plain": [
              "<Figure size 432x288 with 1 Axes>"
            ]
          },
          "metadata": {
            "needs_background": "light"
          }
        }
      ]
    },
    {
      "cell_type": "code",
      "source": [
        ""
      ],
      "metadata": {
        "id": "j9vL2eI8P5tp"
      },
      "execution_count": null,
      "outputs": []
    }
  ]
}